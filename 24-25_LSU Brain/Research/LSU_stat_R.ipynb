{
 "cells": [
  {
   "cell_type": "code",
   "execution_count": null,
   "id": "d86304a8-3e92-47b9-9b10-a74110c0d42c",
   "metadata": {
    "vscode": {
     "languageId": "r"
    }
   },
   "outputs": [],
   "source": [
    "# Importing libraries\n",
    "library(dplyr)\n",
    "library(data.table)\n",
    "library(tidyr)"
   ]
  },
  {
   "cell_type": "code",
   "execution_count": 8,
   "id": "c763548a-fa89-4e5f-959b-a7d05a50a844",
   "metadata": {
    "vscode": {
     "languageId": "r"
    }
   },
   "outputs": [
    {
     "data": {
      "text/html": [
       "<table class=\"dataframe\">\n",
       "<caption>A data.table: 6 × 21</caption>\n",
       "<thead>\n",
       "\t<tr><th scope=col>symbol</th><th scope=col>Drug A _Sub_1</th><th scope=col>Drug A _Sub_2</th><th scope=col>Drug A _Sub_3</th><th scope=col>Drug A _Sub_4</th><th scope=col>Drug A _Sub_5</th><th scope=col>Drug B _Sub_1</th><th scope=col>Drug B _Sub_2</th><th scope=col>Drug B _Sub_3</th><th scope=col>Drug B _Sub_4</th><th scope=col>⋯</th><th scope=col>Drug C_Sub_1</th><th scope=col>Drug C_Sub_2</th><th scope=col>Drug C_Sub_3</th><th scope=col>Drug C_Sub_4</th><th scope=col>Drug C_Sub_5</th><th scope=col>Saline_sub_1</th><th scope=col>Saline_sub_2</th><th scope=col>Saline_sub_3</th><th scope=col>Saline_sub_4</th><th scope=col>Saline_sub_5</th></tr>\n",
       "\t<tr><th scope=col>&lt;chr&gt;</th><th scope=col>&lt;dbl&gt;</th><th scope=col>&lt;dbl&gt;</th><th scope=col>&lt;dbl&gt;</th><th scope=col>&lt;dbl&gt;</th><th scope=col>&lt;dbl&gt;</th><th scope=col>&lt;dbl&gt;</th><th scope=col>&lt;dbl&gt;</th><th scope=col>&lt;dbl&gt;</th><th scope=col>&lt;dbl&gt;</th><th scope=col>⋯</th><th scope=col>&lt;dbl&gt;</th><th scope=col>&lt;dbl&gt;</th><th scope=col>&lt;dbl&gt;</th><th scope=col>&lt;dbl&gt;</th><th scope=col>&lt;dbl&gt;</th><th scope=col>&lt;dbl&gt;</th><th scope=col>&lt;dbl&gt;</th><th scope=col>&lt;dbl&gt;</th><th scope=col>&lt;dbl&gt;</th><th scope=col>&lt;dbl&gt;</th></tr>\n",
       "</thead>\n",
       "<tbody>\n",
       "\t<tr><td>Gnai3</td><td>654</td><td>932</td><td>664</td><td>856</td><td>806</td><td>906</td><td>826</td><td>850</td><td>631</td><td>⋯</td><td>814</td><td>944</td><td>1311</td><td>1167</td><td>768</td><td>866</td><td>652</td><td>706</td><td>1257</td><td>809</td></tr>\n",
       "\t<tr><td>Pbsn </td><td>  0</td><td>  0</td><td>  0</td><td>  0</td><td>  0</td><td>  0</td><td>  0</td><td>  0</td><td>  0</td><td>⋯</td><td>  0</td><td>  0</td><td>   0</td><td>   0</td><td>  0</td><td>  0</td><td>  0</td><td>  0</td><td>   0</td><td>  0</td></tr>\n",
       "\t<tr><td>Cdc45</td><td> 17</td><td> 13</td><td> 20</td><td> 21</td><td> 22</td><td> 28</td><td> 27</td><td> 32</td><td> 15</td><td>⋯</td><td> 31</td><td> 31</td><td>  32</td><td>  38</td><td> 16</td><td> 34</td><td> 20</td><td> 16</td><td>  45</td><td> 20</td></tr>\n",
       "\t<tr><td>H19  </td><td>  3</td><td>  6</td><td> 12</td><td>  4</td><td>  5</td><td>  9</td><td>  5</td><td>  5</td><td>  2</td><td>⋯</td><td> 11</td><td> 12</td><td>   6</td><td>  10</td><td>  2</td><td>  4</td><td>  3</td><td>  5</td><td>   6</td><td>  6</td></tr>\n",
       "\t<tr><td>Scml2</td><td> 20</td><td> 22</td><td> 22</td><td> 37</td><td> 20</td><td> 40</td><td> 36</td><td> 35</td><td> 23</td><td>⋯</td><td> 26</td><td> 36</td><td>  35</td><td>  40</td><td> 18</td><td> 34</td><td> 18</td><td> 26</td><td>  30</td><td> 24</td></tr>\n",
       "\t<tr><td>Apoh </td><td>  3</td><td>  9</td><td>  8</td><td>  4</td><td>  9</td><td>  5</td><td>  6</td><td>  8</td><td>  5</td><td>⋯</td><td>  9</td><td>  5</td><td>   7</td><td>   9</td><td> 14</td><td>  6</td><td> 11</td><td>  7</td><td>   9</td><td> 14</td></tr>\n",
       "</tbody>\n",
       "</table>\n"
      ],
      "text/latex": [
       "A data.table: 6 × 21\n",
       "\\begin{tabular}{lllllllllllllllllllll}\n",
       " symbol & Drug A \\_Sub\\_1 & Drug A \\_Sub\\_2 & Drug A \\_Sub\\_3 & Drug A \\_Sub\\_4 & Drug A \\_Sub\\_5 & Drug B \\_Sub\\_1 & Drug B \\_Sub\\_2 & Drug B \\_Sub\\_3 & Drug B \\_Sub\\_4 & ⋯ & Drug C\\_Sub\\_1 & Drug C\\_Sub\\_2 & Drug C\\_Sub\\_3 & Drug C\\_Sub\\_4 & Drug C\\_Sub\\_5 & Saline\\_sub\\_1 & Saline\\_sub\\_2 & Saline\\_sub\\_3 & Saline\\_sub\\_4 & Saline\\_sub\\_5\\\\\n",
       " <chr> & <dbl> & <dbl> & <dbl> & <dbl> & <dbl> & <dbl> & <dbl> & <dbl> & <dbl> & ⋯ & <dbl> & <dbl> & <dbl> & <dbl> & <dbl> & <dbl> & <dbl> & <dbl> & <dbl> & <dbl>\\\\\n",
       "\\hline\n",
       "\t Gnai3 & 654 & 932 & 664 & 856 & 806 & 906 & 826 & 850 & 631 & ⋯ & 814 & 944 & 1311 & 1167 & 768 & 866 & 652 & 706 & 1257 & 809\\\\\n",
       "\t Pbsn  &   0 &   0 &   0 &   0 &   0 &   0 &   0 &   0 &   0 & ⋯ &   0 &   0 &    0 &    0 &   0 &   0 &   0 &   0 &    0 &   0\\\\\n",
       "\t Cdc45 &  17 &  13 &  20 &  21 &  22 &  28 &  27 &  32 &  15 & ⋯ &  31 &  31 &   32 &   38 &  16 &  34 &  20 &  16 &   45 &  20\\\\\n",
       "\t H19   &   3 &   6 &  12 &   4 &   5 &   9 &   5 &   5 &   2 & ⋯ &  11 &  12 &    6 &   10 &   2 &   4 &   3 &   5 &    6 &   6\\\\\n",
       "\t Scml2 &  20 &  22 &  22 &  37 &  20 &  40 &  36 &  35 &  23 & ⋯ &  26 &  36 &   35 &   40 &  18 &  34 &  18 &  26 &   30 &  24\\\\\n",
       "\t Apoh  &   3 &   9 &   8 &   4 &   9 &   5 &   6 &   8 &   5 & ⋯ &   9 &   5 &    7 &    9 &  14 &   6 &  11 &   7 &    9 &  14\\\\\n",
       "\\end{tabular}\n"
      ],
      "text/markdown": [
       "\n",
       "A data.table: 6 × 21\n",
       "\n",
       "| symbol &lt;chr&gt; | Drug A _Sub_1 &lt;dbl&gt; | Drug A _Sub_2 &lt;dbl&gt; | Drug A _Sub_3 &lt;dbl&gt; | Drug A _Sub_4 &lt;dbl&gt; | Drug A _Sub_5 &lt;dbl&gt; | Drug B _Sub_1 &lt;dbl&gt; | Drug B _Sub_2 &lt;dbl&gt; | Drug B _Sub_3 &lt;dbl&gt; | Drug B _Sub_4 &lt;dbl&gt; | ⋯ ⋯ | Drug C_Sub_1 &lt;dbl&gt; | Drug C_Sub_2 &lt;dbl&gt; | Drug C_Sub_3 &lt;dbl&gt; | Drug C_Sub_4 &lt;dbl&gt; | Drug C_Sub_5 &lt;dbl&gt; | Saline_sub_1 &lt;dbl&gt; | Saline_sub_2 &lt;dbl&gt; | Saline_sub_3 &lt;dbl&gt; | Saline_sub_4 &lt;dbl&gt; | Saline_sub_5 &lt;dbl&gt; |\n",
       "|---|---|---|---|---|---|---|---|---|---|---|---|---|---|---|---|---|---|---|---|---|\n",
       "| Gnai3 | 654 | 932 | 664 | 856 | 806 | 906 | 826 | 850 | 631 | ⋯ | 814 | 944 | 1311 | 1167 | 768 | 866 | 652 | 706 | 1257 | 809 |\n",
       "| Pbsn  |   0 |   0 |   0 |   0 |   0 |   0 |   0 |   0 |   0 | ⋯ |   0 |   0 |    0 |    0 |   0 |   0 |   0 |   0 |    0 |   0 |\n",
       "| Cdc45 |  17 |  13 |  20 |  21 |  22 |  28 |  27 |  32 |  15 | ⋯ |  31 |  31 |   32 |   38 |  16 |  34 |  20 |  16 |   45 |  20 |\n",
       "| H19   |   3 |   6 |  12 |   4 |   5 |   9 |   5 |   5 |   2 | ⋯ |  11 |  12 |    6 |   10 |   2 |   4 |   3 |   5 |    6 |   6 |\n",
       "| Scml2 |  20 |  22 |  22 |  37 |  20 |  40 |  36 |  35 |  23 | ⋯ |  26 |  36 |   35 |   40 |  18 |  34 |  18 |  26 |   30 |  24 |\n",
       "| Apoh  |   3 |   9 |   8 |   4 |   9 |   5 |   6 |   8 |   5 | ⋯ |   9 |   5 |    7 |    9 |  14 |   6 |  11 |   7 |    9 |  14 |\n",
       "\n"
      ],
      "text/plain": [
       "  symbol Drug A _Sub_1 Drug A _Sub_2 Drug A _Sub_3 Drug A _Sub_4 Drug A _Sub_5\n",
       "1 Gnai3  654           932           664           856           806          \n",
       "2 Pbsn     0             0             0             0             0          \n",
       "3 Cdc45   17            13            20            21            22          \n",
       "4 H19      3             6            12             4             5          \n",
       "5 Scml2   20            22            22            37            20          \n",
       "6 Apoh     3             9             8             4             9          \n",
       "  Drug B _Sub_1 Drug B _Sub_2 Drug B _Sub_3 Drug B _Sub_4 ⋯ Drug C_Sub_1\n",
       "1 906           826           850           631           ⋯ 814         \n",
       "2   0             0             0             0           ⋯   0         \n",
       "3  28            27            32            15           ⋯  31         \n",
       "4   9             5             5             2           ⋯  11         \n",
       "5  40            36            35            23           ⋯  26         \n",
       "6   5             6             8             5           ⋯   9         \n",
       "  Drug C_Sub_2 Drug C_Sub_3 Drug C_Sub_4 Drug C_Sub_5 Saline_sub_1 Saline_sub_2\n",
       "1 944          1311         1167         768          866          652         \n",
       "2   0             0            0           0            0            0         \n",
       "3  31            32           38          16           34           20         \n",
       "4  12             6           10           2            4            3         \n",
       "5  36            35           40          18           34           18         \n",
       "6   5             7            9          14            6           11         \n",
       "  Saline_sub_3 Saline_sub_4 Saline_sub_5\n",
       "1 706          1257         809         \n",
       "2   0             0           0         \n",
       "3  16            45          20         \n",
       "4   5             6           6         \n",
       "5  26            30          24         \n",
       "6   7             9          14         "
      ]
     },
     "metadata": {},
     "output_type": "display_data"
    }
   ],
   "source": [
    "# Reading raw counts data and renaming columns\n",
    "raw_counts_pivot <- fread(\"Data/raw counts NGS_de iden.csv\") %>%\n",
    "  select(-c(\"V1\")) %>%\n",
    "  rename(ensembl_gene_id = \"ENSEMBL\", entrez_gene_id = \"ENTREZID\", gene=\"GENENAME\", symbol=\"SYMBOL\")\n",
    "\n",
    "# Seperating gene ID lookup and data tables\n",
    "geneID <- select(raw_counts_pivot, c(\"ensembl_gene_id\", \"entrez_gene_id\", \"gene\"))\n",
    "raw_counts_pivot <- select(raw_counts_pivot, -c(\"ensembl_gene_id\", \"entrez_gene_id\", \"gene\"))\n",
    "head(raw_counts_pivot)\n",
    "\n"
   ]
  },
  {
   "cell_type": "code",
   "execution_count": 12,
   "id": "0f3d3959-e054-4180-bc90-fb76b49cc868",
   "metadata": {
    "vscode": {
     "languageId": "r"
    }
   },
   "outputs": [
    {
     "data": {
      "text/html": [
       "<table class=\"dataframe\">\n",
       "<caption>A data.table: 6 × 4</caption>\n",
       "<thead>\n",
       "\t<tr><th scope=col>symbol</th><th scope=col>drug</th><th scope=col>subject</th><th scope=col>expression_val</th></tr>\n",
       "\t<tr><th scope=col>&lt;chr&gt;</th><th scope=col>&lt;chr&gt;</th><th scope=col>&lt;chr&gt;</th><th scope=col>&lt;dbl&gt;</th></tr>\n",
       "</thead>\n",
       "<tbody>\n",
       "\t<tr><td>Gnai3</td><td>drug a </td><td>1</td><td>654</td></tr>\n",
       "\t<tr><td>Pbsn </td><td>drug a </td><td>1</td><td>  0</td></tr>\n",
       "\t<tr><td>Cdc45</td><td>drug a </td><td>1</td><td> 17</td></tr>\n",
       "\t<tr><td>H19  </td><td>drug a </td><td>1</td><td>  3</td></tr>\n",
       "\t<tr><td>Scml2</td><td>drug a </td><td>1</td><td> 20</td></tr>\n",
       "\t<tr><td>Apoh </td><td>drug a </td><td>1</td><td>  3</td></tr>\n",
       "</tbody>\n",
       "</table>\n"
      ],
      "text/latex": [
       "A data.table: 6 × 4\n",
       "\\begin{tabular}{llll}\n",
       " symbol & drug & subject & expression\\_val\\\\\n",
       " <chr> & <chr> & <chr> & <dbl>\\\\\n",
       "\\hline\n",
       "\t Gnai3 & drug a  & 1 & 654\\\\\n",
       "\t Pbsn  & drug a  & 1 &   0\\\\\n",
       "\t Cdc45 & drug a  & 1 &  17\\\\\n",
       "\t H19   & drug a  & 1 &   3\\\\\n",
       "\t Scml2 & drug a  & 1 &  20\\\\\n",
       "\t Apoh  & drug a  & 1 &   3\\\\\n",
       "\\end{tabular}\n"
      ],
      "text/markdown": [
       "\n",
       "A data.table: 6 × 4\n",
       "\n",
       "| symbol &lt;chr&gt; | drug &lt;chr&gt; | subject &lt;chr&gt; | expression_val &lt;dbl&gt; |\n",
       "|---|---|---|---|\n",
       "| Gnai3 | drug a  | 1 | 654 |\n",
       "| Pbsn  | drug a  | 1 |   0 |\n",
       "| Cdc45 | drug a  | 1 |  17 |\n",
       "| H19   | drug a  | 1 |   3 |\n",
       "| Scml2 | drug a  | 1 |  20 |\n",
       "| Apoh  | drug a  | 1 |   3 |\n",
       "\n"
      ],
      "text/plain": [
       "  symbol drug    subject expression_val\n",
       "1 Gnai3  drug a  1       654           \n",
       "2 Pbsn   drug a  1         0           \n",
       "3 Cdc45  drug a  1        17           \n",
       "4 H19    drug a  1         3           \n",
       "5 Scml2  drug a  1        20           \n",
       "6 Apoh   drug a  1         3           "
      ]
     },
     "metadata": {},
     "output_type": "display_data"
    }
   ],
   "source": [
    "# Unpivoting gene expression data\n",
    "raw_counts <- melt(raw_counts_pivot, id.vars = c(\"symbol\"),\n",
    "                   variable.name = c(\"drug_sub\"),\n",
    "                   value.name = c(\"expression_val\"))\n",
    "\n",
    "raw_counts$drug_sub <- as.character(raw_counts$drug_sub)\n",
    "raw_counts$drug <- tolower(substr(raw_counts$drug_sub, 1, nchar(raw_counts$drug_sub)-6))\n",
    "raw_counts$subject <- tolower(substr(raw_counts$drug_sub, nchar(raw_counts$drug_sub), nchar(raw_counts$drug_sub)))\n",
    "raw_counts <- select(raw_counts, c('symbol', 'drug', 'subject', 'expression_val'))\n",
    "\n",
    "head(raw_counts)"
   ]
  }
 ],
 "metadata": {
  "kernelspec": {
   "display_name": "R",
   "language": "R",
   "name": "ir"
  },
  "language_info": {
   "codemirror_mode": "r",
   "file_extension": ".r",
   "mimetype": "text/x-r-source",
   "name": "R",
   "pygments_lexer": "r",
   "version": "4.3.3"
  }
 },
 "nbformat": 4,
 "nbformat_minor": 5
}
