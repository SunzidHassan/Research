{
 "cells": [
  {
   "cell_type": "markdown",
   "metadata": {},
   "source": [
    "## Semantic Vision and Olfaction Fusion\n",
    "### A Semantic-Based Gas Source Localization with a Mobile Robot Combining Vision and Chemical Sensing\n",
    "1. Gas detection and classification using electronic nose\n",
    "Probability is assigned to type of gas detected (e.g., gas smell, smoke smell, rotten food smell, garbage smell, pet smell, etc.), and the possible objects that are related to this gas (e.g., pet bed, bin, heater, dishwasher, etc.).\n",
    "\n",
    "2. Object detection and recognition using YOLOv3\n",
    "RGB-D camera is used in this work, where the light intensities are passed to YOLOv3, and the depth information, along with the robot position and heading is used to map the determine object coordinate.\n",
    "\n",
    "3. Ontologies and semantic queries\n",
    "Like Appliance category of objects can have gas, rotten food or smoke smells, are located in kitchen, etc.\n",
    "\n",
    "4. Fusing information with Bayesian Probabilistic Framework\n",
    "After gas detection, candidate probability is calculated as a product of three conditional probability: (i) the likelihood of of object to belong in a category (a detected object being dishwasher) - conditioned on object detector, (ii) probability of a detected oven to emit smoke or rotten smell - conditioned on prior knowledge, (iii) probability of a detected gas being of a class (a detected gas being smoke) - conditioned on electronic nose.\n",
    "\n",
    "5. Search\n",
    "The system continuously updates the 3 probabilities. Upon being triggered of a gas source of significance (e.g., smoke), the system lists probable objects in that can emit the gas. A number of path planning techniques are tested for localizing the odor sources, including, greedy method, MDP method, etc.\n",
    "\n",
    "Experiment:\n",
    "experiments were ran in both simulated and real environment.\n"
   ]
  },
  {
   "cell_type": "markdown",
   "metadata": {},
   "source": [
    "## Indoor Simulator Environments and its Applications with LLM\n",
    "\n",
    "\n",
    "## Other Multi-modal Fusion Algorithms"
   ]
  }
 ],
 "metadata": {
  "language_info": {
   "name": "python"
  }
 },
 "nbformat": 4,
 "nbformat_minor": 2
}
