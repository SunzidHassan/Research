{
 "cells": [
  {
   "cell_type": "code",
   "execution_count": 1,
   "metadata": {},
   "outputs": [
    {
     "name": "stdout",
     "output_type": "stream",
     "text": [
      "Current directory: /home/sunzid/Research/23-24_Automatic-Control-Lab/LLMSim\n"
     ]
    }
   ],
   "source": [
    "import os\n",
    "\n",
    "# Get the current working directory\n",
    "current_directory = os.getcwd()\n",
    "\n",
    "# Print the current directory\n",
    "print(\"Current directory:\", current_directory)\n"
   ]
  },
  {
   "cell_type": "code",
   "execution_count": 15,
   "metadata": {},
   "outputs": [],
   "source": [
    "import pandas as pd\n",
    "import glob\n",
    "\n",
    "folder_path = 'Collection2/'\n",
    "olfaction_1_csv = '*_1_olfaction.csv'\n",
    "olfaction_csv = '*_olfaction.csv'\n",
    "\n",
    "olfaction_files = glob.glob(folder_path + olfaction_csv)\n",
    "olfaction_1_files = glob.glob(folder_path + olfaction_1_csv)"
   ]
  },
  {
   "cell_type": "code",
   "execution_count": 28,
   "metadata": {},
   "outputs": [],
   "source": [
    "x_list = []\n",
    "y_list = []\n",
    "x_list1 = []\n",
    "y_list1 = []\n",
    "direction_list = []\n",
    "plume_list = []\n",
    "glb_wind_blow_dir_list = []\n",
    "wind_spd_list = []\n",
    "\n",
    "for file in olfaction_files:\n",
    "    df = pd.read_csv(file)\n",
    "    x_list.append(file.split('/')[-1].split('_')[0])\n",
    "    y_list.append(file.split('/')[-1].split('_')[1])\n",
    "    direction_list.append(file.split('/')[-1].split('_')[2])\n",
    "    plume_list.append(round(df.plume.mean()))\n",
    "\n",
    "olfaction = pd.DataFrame({'x': x_list, 'y': y_list, 'direction': direction_list,\n",
    "              'plume': plume_list})\n",
    "\n",
    "for file in olfaction_1_files:\n",
    "    df1 = pd.read_csv(file)\n",
    "    x_list1.append(file.split('/')[-1].split('_')[0])\n",
    "    y_list1.append(file.split('/')[-1].split('_')[1])\n",
    "    glb_wind_blow_dir_list.append(round(df1.glbWindBlowDir.mean(), 2))\n",
    "    wind_spd_list.append(round(df1.windSpd.mean(), 2))\n",
    "\n",
    "olfaction_1 = pd.DataFrame({'x': x_list1, 'y': y_list1,\n",
    "              'glb_wnd_blw_dir': glb_wind_blow_dir_list, 'wind_spd': wind_spd_list})\n",
    "\n",
    "olfaction = olfaction.merge(olfaction_1, on=['x', 'y'], how='inner')\n",
    "\n",
    "olfaction.to_csv('olfaction_data.csv')"
   ]
  }
 ],
 "metadata": {
  "kernelspec": {
   "display_name": "base",
   "language": "python",
   "name": "python3"
  },
  "language_info": {
   "codemirror_mode": {
    "name": "ipython",
    "version": 3
   },
   "file_extension": ".py",
   "mimetype": "text/x-python",
   "name": "python",
   "nbconvert_exporter": "python",
   "pygments_lexer": "ipython3",
   "version": "3.11.7"
  }
 },
 "nbformat": 4,
 "nbformat_minor": 2
}
