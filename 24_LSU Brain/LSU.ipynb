{
 "cells": [
  {
   "cell_type": "markdown",
   "metadata": {},
   "source": [
    "Database of Essential Genes (DEG) analysis needs:\n",
    "- Expression data\n",
    "- Gene annotation data\n",
    "- Metadata regarding sample group or sample phenotype condition\n",
    "\n"
   ]
  },
  {
   "cell_type": "code",
   "execution_count": 2,
   "metadata": {
    "vscode": {
     "languageId": "r"
    }
   },
   "outputs": [
    {
     "ename": "ERROR",
     "evalue": "Error in library(GEOquery): there is no package called ‘GEOquery’\n",
     "output_type": "error",
     "traceback": [
      "Error in library(GEOquery): there is no package called ‘GEOquery’\nTraceback:\n",
      "1. library(GEOquery)"
     ]
    }
   ],
   "source": [
    "setwd(\"GSE63477/\")\n",
    "library(GEOquery)"
   ]
  },
  {
   "cell_type": "code",
   "execution_count": 1,
   "metadata": {
    "vscode": {
     "languageId": "r"
    }
   },
   "outputs": [
    {
     "ename": "ERROR",
     "evalue": "Error in getGEO(my_id): could not find function \"getGEO\"\n",
     "output_type": "error",
     "traceback": [
      "Error in getGEO(my_id): could not find function \"getGEO\"\nTraceback:\n"
     ]
    }
   ],
   "source": [
    "my_id <- \"GSE63477\"\n",
    "gse <- getGEO(my_id)"
   ]
  }
 ],
 "metadata": {
  "kernelspec": {
   "display_name": "R",
   "language": "R",
   "name": "ir"
  },
  "language_info": {
   "codemirror_mode": "r",
   "file_extension": ".r",
   "mimetype": "text/x-r-source",
   "name": "R",
   "pygments_lexer": "r",
   "version": "4.3.2"
  }
 },
 "nbformat": 4,
 "nbformat_minor": 2
}
