{
 "cells": [
  {
   "cell_type": "markdown",
   "metadata": {},
   "source": [
    "Database of Essential Genes (DEG) analysis needs:\n",
    "- Expression data\n",
    "- Gene annotation data\n",
    "- Metadata regarding sample group or sample phenotype condition\n",
    "\n"
   ]
  },
  {
   "cell_type": "code",
   "execution_count": 1,
   "metadata": {
    "vscode": {
     "languageId": "r"
    }
   },
   "outputs": [
    {
     "data": {
      "text/html": [
       "'/home/sunzid/Research/24_LSU Brain'"
      ],
      "text/latex": [
       "'/home/sunzid/Research/24\\_LSU Brain'"
      ],
      "text/markdown": [
       "'/home/sunzid/Research/24_LSU Brain'"
      ],
      "text/plain": [
       "[1] \"/home/sunzid/Research/24_LSU Brain\""
      ]
     },
     "metadata": {},
     "output_type": "display_data"
    }
   ],
   "source": [
    "getwd()"
   ]
  },
  {
   "cell_type": "code",
   "execution_count": null,
   "metadata": {
    "vscode": {
     "languageId": "r"
    }
   },
   "outputs": [],
   "source": [
    "setwd(\"GSE63477/\")\n",
    "library(GEOquery)"
   ]
  },
  {
   "cell_type": "code",
   "execution_count": 3,
   "metadata": {
    "vscode": {
     "languageId": "r"
    }
   },
   "outputs": [
    {
     "name": "stderr",
     "output_type": "stream",
     "text": [
      "Found 1 file(s)\n",
      "\n",
      "GSE63477_series_matrix.txt.gz\n",
      "\n"
     ]
    }
   ],
   "source": [
    "my_id <- \"GSE63477\"\n",
    "gse <- getGEO(my_id)"
   ]
  },
  {
   "cell_type": "code",
   "execution_count": 6,
   "metadata": {
    "vscode": {
     "languageId": "r"
    }
   },
   "outputs": [],
   "source": [
    "gse <- gse[[1]]\n",
    "gse"
   ]
  },
  {
   "cell_type": "code",
   "execution_count": 9,
   "metadata": {
    "vscode": {
     "languageId": "r"
    }
   },
   "outputs": [
    {
     "data": {
      "text/html": [
       "<table class=\"dataframe\">\n",
       "<caption>A data.frame: 2 × 35</caption>\n",
       "<thead>\n",
       "\t<tr><th></th><th scope=col>title</th><th scope=col>geo_accession</th><th scope=col>status</th><th scope=col>submission_date</th><th scope=col>last_update_date</th><th scope=col>type</th><th scope=col>channel_count</th><th scope=col>source_name_ch1</th><th scope=col>organism_ch1</th><th scope=col>characteristics_ch1</th><th scope=col>⋯</th><th scope=col>contact_institute</th><th scope=col>contact_address</th><th scope=col>contact_city</th><th scope=col>contact_state</th><th scope=col>contact_zip/postal_code</th><th scope=col>contact_country</th><th scope=col>supplementary_file</th><th scope=col>data_row_count</th><th scope=col>cell line:ch1</th><th scope=col>treatment:ch1</th></tr>\n",
       "\t<tr><th></th><th scope=col>&lt;chr&gt;</th><th scope=col>&lt;chr&gt;</th><th scope=col>&lt;chr&gt;</th><th scope=col>&lt;chr&gt;</th><th scope=col>&lt;chr&gt;</th><th scope=col>&lt;chr&gt;</th><th scope=col>&lt;chr&gt;</th><th scope=col>&lt;chr&gt;</th><th scope=col>&lt;chr&gt;</th><th scope=col>&lt;chr&gt;</th><th scope=col>⋯</th><th scope=col>&lt;chr&gt;</th><th scope=col>&lt;chr&gt;</th><th scope=col>&lt;chr&gt;</th><th scope=col>&lt;chr&gt;</th><th scope=col>&lt;chr&gt;</th><th scope=col>&lt;chr&gt;</th><th scope=col>&lt;chr&gt;</th><th scope=col>&lt;chr&gt;</th><th scope=col>&lt;chr&gt;</th><th scope=col>&lt;chr&gt;</th></tr>\n",
       "</thead>\n",
       "<tbody>\n",
       "\t<tr><th scope=row>GSM1550559</th><td>LNCaP CTRL treated in charcoal dextran treated serum, replicate 1</td><td>GSM1550559</td><td>Public on Jan 01 2015</td><td>Nov 19 2014</td><td>Jan 01 2015</td><td>RNA</td><td>1</td><td>LNCaP</td><td>Homo sapiens</td><td>cell line: LNCaP</td><td>⋯</td><td>Thomas Jefferson University - Kimmel Cancer Center</td><td>233 S 10th St, BLSB 1008</td><td>Philadelphia</td><td>Pennsylvania</td><td>19107</td><td>USA</td><td>ftp://ftp.ncbi.nlm.nih.gov/geo/samples/GSM1550nnn/GSM1550559/suppl/GSM1550559_01_LN_CDT-CTRL_1.CEL.gz</td><td>44629</td><td>LNCaP</td><td>CTRL treated in charcoal dextran treated serum</td></tr>\n",
       "\t<tr><th scope=row>GSM1550560</th><td>LNCaP CTRL treated in charcoal dextran treated serum, replicate 2</td><td>GSM1550560</td><td>Public on Jan 01 2015</td><td>Nov 19 2014</td><td>Jan 01 2015</td><td>RNA</td><td>1</td><td>LNCaP</td><td>Homo sapiens</td><td>cell line: LNCaP</td><td>⋯</td><td>Thomas Jefferson University - Kimmel Cancer Center</td><td>233 S 10th St, BLSB 1008</td><td>Philadelphia</td><td>Pennsylvania</td><td>19107</td><td>USA</td><td>ftp://ftp.ncbi.nlm.nih.gov/geo/samples/GSM1550nnn/GSM1550560/suppl/GSM1550560_01_LN_CTS-CTRL_2.CEL.gz</td><td>44629</td><td>LNCaP</td><td>CTRL treated in charcoal dextran treated serum</td></tr>\n",
       "</tbody>\n",
       "</table>\n"
      ],
      "text/latex": [
       "A data.frame: 2 × 35\n",
       "\\begin{tabular}{r|lllllllllllllllllllll}\n",
       "  & title & geo\\_accession & status & submission\\_date & last\\_update\\_date & type & channel\\_count & source\\_name\\_ch1 & organism\\_ch1 & characteristics\\_ch1 & ⋯ & contact\\_institute & contact\\_address & contact\\_city & contact\\_state & contact\\_zip/postal\\_code & contact\\_country & supplementary\\_file & data\\_row\\_count & cell line:ch1 & treatment:ch1\\\\\n",
       "  & <chr> & <chr> & <chr> & <chr> & <chr> & <chr> & <chr> & <chr> & <chr> & <chr> & ⋯ & <chr> & <chr> & <chr> & <chr> & <chr> & <chr> & <chr> & <chr> & <chr> & <chr>\\\\\n",
       "\\hline\n",
       "\tGSM1550559 & LNCaP CTRL treated in charcoal dextran treated serum, replicate 1 & GSM1550559 & Public on Jan 01 2015 & Nov 19 2014 & Jan 01 2015 & RNA & 1 & LNCaP & Homo sapiens & cell line: LNCaP & ⋯ & Thomas Jefferson University - Kimmel Cancer Center & 233 S 10th St, BLSB 1008 & Philadelphia & Pennsylvania & 19107 & USA & ftp://ftp.ncbi.nlm.nih.gov/geo/samples/GSM1550nnn/GSM1550559/suppl/GSM1550559\\_01\\_LN\\_CDT-CTRL\\_1.CEL.gz & 44629 & LNCaP & CTRL treated in charcoal dextran treated serum\\\\\n",
       "\tGSM1550560 & LNCaP CTRL treated in charcoal dextran treated serum, replicate 2 & GSM1550560 & Public on Jan 01 2015 & Nov 19 2014 & Jan 01 2015 & RNA & 1 & LNCaP & Homo sapiens & cell line: LNCaP & ⋯ & Thomas Jefferson University - Kimmel Cancer Center & 233 S 10th St, BLSB 1008 & Philadelphia & Pennsylvania & 19107 & USA & ftp://ftp.ncbi.nlm.nih.gov/geo/samples/GSM1550nnn/GSM1550560/suppl/GSM1550560\\_01\\_LN\\_CTS-CTRL\\_2.CEL.gz & 44629 & LNCaP & CTRL treated in charcoal dextran treated serum\\\\\n",
       "\\end{tabular}\n"
      ],
      "text/markdown": [
       "\n",
       "A data.frame: 2 × 35\n",
       "\n",
       "| <!--/--> | title &lt;chr&gt; | geo_accession &lt;chr&gt; | status &lt;chr&gt; | submission_date &lt;chr&gt; | last_update_date &lt;chr&gt; | type &lt;chr&gt; | channel_count &lt;chr&gt; | source_name_ch1 &lt;chr&gt; | organism_ch1 &lt;chr&gt; | characteristics_ch1 &lt;chr&gt; | ⋯ ⋯ | contact_institute &lt;chr&gt; | contact_address &lt;chr&gt; | contact_city &lt;chr&gt; | contact_state &lt;chr&gt; | contact_zip/postal_code &lt;chr&gt; | contact_country &lt;chr&gt; | supplementary_file &lt;chr&gt; | data_row_count &lt;chr&gt; | cell line:ch1 &lt;chr&gt; | treatment:ch1 &lt;chr&gt; |\n",
       "|---|---|---|---|---|---|---|---|---|---|---|---|---|---|---|---|---|---|---|---|---|---|\n",
       "| GSM1550559 | LNCaP CTRL treated in charcoal dextran treated serum, replicate 1 | GSM1550559 | Public on Jan 01 2015 | Nov 19 2014 | Jan 01 2015 | RNA | 1 | LNCaP | Homo sapiens | cell line: LNCaP | ⋯ | Thomas Jefferson University - Kimmel Cancer Center | 233 S 10th St, BLSB 1008 | Philadelphia | Pennsylvania | 19107 | USA | ftp://ftp.ncbi.nlm.nih.gov/geo/samples/GSM1550nnn/GSM1550559/suppl/GSM1550559_01_LN_CDT-CTRL_1.CEL.gz | 44629 | LNCaP | CTRL treated in charcoal dextran treated serum |\n",
       "| GSM1550560 | LNCaP CTRL treated in charcoal dextran treated serum, replicate 2 | GSM1550560 | Public on Jan 01 2015 | Nov 19 2014 | Jan 01 2015 | RNA | 1 | LNCaP | Homo sapiens | cell line: LNCaP | ⋯ | Thomas Jefferson University - Kimmel Cancer Center | 233 S 10th St, BLSB 1008 | Philadelphia | Pennsylvania | 19107 | USA | ftp://ftp.ncbi.nlm.nih.gov/geo/samples/GSM1550nnn/GSM1550560/suppl/GSM1550560_01_LN_CTS-CTRL_2.CEL.gz | 44629 | LNCaP | CTRL treated in charcoal dextran treated serum |\n",
       "\n"
      ],
      "text/plain": [
       "           title                                                            \n",
       "GSM1550559 LNCaP CTRL treated in charcoal dextran treated serum, replicate 1\n",
       "GSM1550560 LNCaP CTRL treated in charcoal dextran treated serum, replicate 2\n",
       "           geo_accession status                submission_date last_update_date\n",
       "GSM1550559 GSM1550559    Public on Jan 01 2015 Nov 19 2014     Jan 01 2015     \n",
       "GSM1550560 GSM1550560    Public on Jan 01 2015 Nov 19 2014     Jan 01 2015     \n",
       "           type channel_count source_name_ch1 organism_ch1 characteristics_ch1\n",
       "GSM1550559 RNA  1             LNCaP           Homo sapiens cell line: LNCaP   \n",
       "GSM1550560 RNA  1             LNCaP           Homo sapiens cell line: LNCaP   \n",
       "           ⋯ contact_institute                                 \n",
       "GSM1550559 ⋯ Thomas Jefferson University - Kimmel Cancer Center\n",
       "GSM1550560 ⋯ Thomas Jefferson University - Kimmel Cancer Center\n",
       "           contact_address          contact_city contact_state\n",
       "GSM1550559 233 S 10th St, BLSB 1008 Philadelphia Pennsylvania \n",
       "GSM1550560 233 S 10th St, BLSB 1008 Philadelphia Pennsylvania \n",
       "           contact_zip/postal_code contact_country\n",
       "GSM1550559 19107                   USA            \n",
       "GSM1550560 19107                   USA            \n",
       "           supplementary_file                                                                                   \n",
       "GSM1550559 ftp://ftp.ncbi.nlm.nih.gov/geo/samples/GSM1550nnn/GSM1550559/suppl/GSM1550559_01_LN_CDT-CTRL_1.CEL.gz\n",
       "GSM1550560 ftp://ftp.ncbi.nlm.nih.gov/geo/samples/GSM1550nnn/GSM1550560/suppl/GSM1550560_01_LN_CTS-CTRL_2.CEL.gz\n",
       "           data_row_count cell line:ch1\n",
       "GSM1550559 44629          LNCaP        \n",
       "GSM1550560 44629          LNCaP        \n",
       "           treatment:ch1                                 \n",
       "GSM1550559 CTRL treated in charcoal dextran treated serum\n",
       "GSM1550560 CTRL treated in charcoal dextran treated serum"
      ]
     },
     "metadata": {},
     "output_type": "display_data"
    }
   ],
   "source": [
    "pData(gse)[1:2,] ## print the sample information"
   ]
  },
  {
   "cell_type": "code",
   "execution_count": 10,
   "metadata": {
    "vscode": {
     "languageId": "r"
    }
   },
   "outputs": [
    {
     "data": {
      "text/html": [
       "<table class=\"dataframe\">\n",
       "<caption>A data.frame: 1 × 8</caption>\n",
       "<thead>\n",
       "\t<tr><th></th><th scope=col>ID</th><th scope=col>RANGE_STRAND</th><th scope=col>RANGE_START</th><th scope=col>RANGE_END</th><th scope=col>total_probes</th><th scope=col>GB_ACC</th><th scope=col>SPOT_ID</th><th scope=col>RANGE_GB</th></tr>\n",
       "\t<tr><th></th><th scope=col>&lt;chr&gt;</th><th scope=col>&lt;chr&gt;</th><th scope=col>&lt;int&gt;</th><th scope=col>&lt;int&gt;</th><th scope=col>&lt;int&gt;</th><th scope=col>&lt;chr&gt;</th><th scope=col>&lt;chr&gt;</th><th scope=col>&lt;chr&gt;</th></tr>\n",
       "</thead>\n",
       "<tbody>\n",
       "\t<tr><th scope=row>16657436</th><td>16657436</td><td>+</td><td>12190</td><td>13639</td><td>25</td><td>NR_046018</td><td>chr1:12190-13639</td><td>NC_000001.10</td></tr>\n",
       "</tbody>\n",
       "</table>\n"
      ],
      "text/latex": [
       "A data.frame: 1 × 8\n",
       "\\begin{tabular}{r|llllllll}\n",
       "  & ID & RANGE\\_STRAND & RANGE\\_START & RANGE\\_END & total\\_probes & GB\\_ACC & SPOT\\_ID & RANGE\\_GB\\\\\n",
       "  & <chr> & <chr> & <int> & <int> & <int> & <chr> & <chr> & <chr>\\\\\n",
       "\\hline\n",
       "\t16657436 & 16657436 & + & 12190 & 13639 & 25 & NR\\_046018 & chr1:12190-13639 & NC\\_000001.10\\\\\n",
       "\\end{tabular}\n"
      ],
      "text/markdown": [
       "\n",
       "A data.frame: 1 × 8\n",
       "\n",
       "| <!--/--> | ID &lt;chr&gt; | RANGE_STRAND &lt;chr&gt; | RANGE_START &lt;int&gt; | RANGE_END &lt;int&gt; | total_probes &lt;int&gt; | GB_ACC &lt;chr&gt; | SPOT_ID &lt;chr&gt; | RANGE_GB &lt;chr&gt; |\n",
       "|---|---|---|---|---|---|---|---|---|\n",
       "| 16657436 | 16657436 | + | 12190 | 13639 | 25 | NR_046018 | chr1:12190-13639 | NC_000001.10 |\n",
       "\n"
      ],
      "text/plain": [
       "         ID       RANGE_STRAND RANGE_START RANGE_END total_probes GB_ACC   \n",
       "16657436 16657436 +            12190       13639     25           NR_046018\n",
       "         SPOT_ID          RANGE_GB    \n",
       "16657436 chr1:12190-13639 NC_000001.10"
      ]
     },
     "metadata": {},
     "output_type": "display_data"
    }
   ],
   "source": [
    "fData(gse)[1,] ## print the gene annotation"
   ]
  },
  {
   "cell_type": "code",
   "execution_count": 11,
   "metadata": {
    "vscode": {
     "languageId": "r"
    }
   },
   "outputs": [
    {
     "data": {
      "text/html": [
       "<style>\n",
       ".dl-inline {width: auto; margin:0; padding: 0}\n",
       ".dl-inline>dt, .dl-inline>dd {float: none; width: auto; display: inline-block}\n",
       ".dl-inline>dt::after {content: \":\\0020\"; padding-right: .5ex}\n",
       ".dl-inline>dt:not(:first-of-type) {padding-left: .5ex}\n",
       "</style><dl class=dl-inline><dt>GSM1550559</dt><dd>24.632145</dd><dt>GSM1550560</dt><dd>21.96198</dd><dt>GSM1550561</dt><dd>24.366737</dd><dt>GSM1550562</dt><dd>24.280321</dd><dt>GSM1550563</dt><dd>24.82574</dd><dt>GSM1550564</dt><dd>22.722582</dd><dt>GSM1550565</dt><dd>25.7643</dd><dt>GSM1550566</dt><dd>23.039467</dd><dt>GSM1550567</dt><dd>24.454523</dd><dt>GSM1550568</dt><dd>23.748682</dd><dt>GSM1550569</dt><dd>23.771309</dd><dt>GSM1550570</dt><dd>21.671755</dd></dl>\n"
      ],
      "text/latex": [
       "\\begin{description*}\n",
       "\\item[GSM1550559] 24.632145\n",
       "\\item[GSM1550560] 21.96198\n",
       "\\item[GSM1550561] 24.366737\n",
       "\\item[GSM1550562] 24.280321\n",
       "\\item[GSM1550563] 24.82574\n",
       "\\item[GSM1550564] 22.722582\n",
       "\\item[GSM1550565] 25.7643\n",
       "\\item[GSM1550566] 23.039467\n",
       "\\item[GSM1550567] 24.454523\n",
       "\\item[GSM1550568] 23.748682\n",
       "\\item[GSM1550569] 23.771309\n",
       "\\item[GSM1550570] 21.671755\n",
       "\\end{description*}\n"
      ],
      "text/markdown": [
       "GSM1550559\n",
       ":   24.632145GSM1550560\n",
       ":   21.96198GSM1550561\n",
       ":   24.366737GSM1550562\n",
       ":   24.280321GSM1550563\n",
       ":   24.82574GSM1550564\n",
       ":   22.722582GSM1550565\n",
       ":   25.7643GSM1550566\n",
       ":   23.039467GSM1550567\n",
       ":   24.454523GSM1550568\n",
       ":   23.748682GSM1550569\n",
       ":   23.771309GSM1550570\n",
       ":   21.671755\n",
       "\n"
      ],
      "text/plain": [
       "GSM1550559 GSM1550560 GSM1550561 GSM1550562 GSM1550563 GSM1550564 GSM1550565 \n",
       "  24.63215   21.96198   24.36674   24.28032   24.82574   22.72258   25.76430 \n",
       "GSM1550566 GSM1550567 GSM1550568 GSM1550569 GSM1550570 \n",
       "  23.03947   24.45452   23.74868   23.77131   21.67176 "
      ]
     },
     "metadata": {},
     "output_type": "display_data"
    }
   ],
   "source": [
    "exprs(gse)[1,] ## print the expression data"
   ]
  },
  {
   "cell_type": "code",
   "execution_count": 12,
   "metadata": {
    "vscode": {
     "languageId": "r"
    }
   },
   "outputs": [
    {
     "data": {
      "text/html": [
       "'Data were processed with GenSpring 11.5 software. The expression data were RMA normalized, and filtered to remove low-expressing genes.'"
      ],
      "text/latex": [
       "'Data were processed with GenSpring 11.5 software. The expression data were RMA normalized, and filtered to remove low-expressing genes.'"
      ],
      "text/markdown": [
       "'Data were processed with GenSpring 11.5 software. The expression data were RMA normalized, and filtered to remove low-expressing genes.'"
      ],
      "text/plain": [
       "[1] \"Data were processed with GenSpring 11.5 software. The expression data were RMA normalized, and filtered to remove low-expressing genes.\""
      ]
     },
     "metadata": {},
     "output_type": "display_data"
    }
   ],
   "source": [
    "pData(gse)$data_processing[1]"
   ]
  },
  {
   "cell_type": "code",
   "execution_count": 13,
   "metadata": {
    "vscode": {
     "languageId": "r"
    }
   },
   "outputs": [
    {
     "data": {
      "text/plain": [
       "   GSM1550559        GSM1550560        GSM1550561        GSM1550562     \n",
       " Min.   :  17.42   Min.   :  17.49   Min.   :  17.54   Min.   :  17.44  \n",
       " 1st Qu.:  19.59   1st Qu.:  19.53   1st Qu.:  19.59   1st Qu.:  19.45  \n",
       " Median :  22.29   Median :  22.34   Median :  22.39   Median :  22.43  \n",
       " Mean   :  48.09   Mean   :  48.51   Mean   :  48.08   Mean   :  48.91  \n",
       " 3rd Qu.:  33.45   3rd Qu.:  33.90   3rd Qu.:  33.70   3rd Qu.:  33.92  \n",
       " Max.   :5889.83   Max.   :6043.74   Max.   :5907.55   Max.   :6087.95  \n",
       "   GSM1550563        GSM1550564        GSM1550565        GSM1550566     \n",
       " Min.   :  17.48   Min.   :  17.47   Min.   :  17.43   Min.   :  17.49  \n",
       " 1st Qu.:  19.48   1st Qu.:  19.51   1st Qu.:  19.59   1st Qu.:  19.54  \n",
       " Median :  22.19   Median :  22.22   Median :  22.38   Median :  22.29  \n",
       " Mean   :  49.16   Mean   :  48.72   Mean   :  48.29   Mean   :  48.83  \n",
       " 3rd Qu.:  33.70   3rd Qu.:  33.84   3rd Qu.:  33.49   3rd Qu.:  33.85  \n",
       " Max.   :5991.22   Max.   :5827.09   Max.   :5704.80   Max.   :5938.88  \n",
       "   GSM1550567        GSM1550568        GSM1550569        GSM1550570     \n",
       " Min.   :  17.49   Min.   :  17.32   Min.   :  17.38   Min.   :  17.38  \n",
       " 1st Qu.:  19.54   1st Qu.:  19.58   1st Qu.:  19.41   1st Qu.:  19.52  \n",
       " Median :  22.36   Median :  22.35   Median :  22.31   Median :  22.27  \n",
       " Mean   :  48.72   Mean   :  48.31   Mean   :  49.31   Mean   :  48.94  \n",
       " 3rd Qu.:  33.62   3rd Qu.:  33.58   3rd Qu.:  33.82   3rd Qu.:  33.71  \n",
       " Max.   :6140.01   Max.   :6066.52   Max.   :6307.27   Max.   :5844.71  "
      ]
     },
     "metadata": {},
     "output_type": "display_data"
    }
   ],
   "source": [
    "# For visualisation and statistical analysis, we will inspect the data to \n",
    "# discover what scale the data are presented in. The methods we will use assume \n",
    "# the data are on a log2 scale; typically in the range of 0 to 16.\n",
    "\n",
    "## have a look on the expression value\n",
    "summary(exprs(gse))"
   ]
  },
  {
   "cell_type": "code",
   "execution_count": 14,
   "metadata": {
    "vscode": {
     "languageId": "r"
    }
   },
   "outputs": [
    {
     "data": {
      "text/plain": [
       "   GSM1550559       GSM1550560       GSM1550561       GSM1550562    \n",
       " Min.   : 4.122   Min.   : 4.128   Min.   : 4.133   Min.   : 4.124  \n",
       " 1st Qu.: 4.292   1st Qu.: 4.288   1st Qu.: 4.292   1st Qu.: 4.282  \n",
       " Median : 4.479   Median : 4.482   Median : 4.485   Median : 4.488  \n",
       " Mean   : 4.887   Mean   : 4.892   Mean   : 4.887   Mean   : 4.890  \n",
       " 3rd Qu.: 5.064   3rd Qu.: 5.083   3rd Qu.: 5.075   3rd Qu.: 5.084  \n",
       " Max.   :12.524   Max.   :12.561   Max.   :12.528   Max.   :12.572  \n",
       "   GSM1550563       GSM1550564       GSM1550565       GSM1550566    \n",
       " Min.   : 4.128   Min.   : 4.127   Min.   : 4.123   Min.   : 4.128  \n",
       " 1st Qu.: 4.284   1st Qu.: 4.286   1st Qu.: 4.292   1st Qu.: 4.288  \n",
       " Median : 4.472   Median : 4.474   Median : 4.484   Median : 4.478  \n",
       " Mean   : 4.893   Mean   : 4.892   Mean   : 4.887   Mean   : 4.892  \n",
       " 3rd Qu.: 5.075   3rd Qu.: 5.081   3rd Qu.: 5.066   3rd Qu.: 5.081  \n",
       " Max.   :12.549   Max.   :12.509   Max.   :12.478   Max.   :12.536  \n",
       "   GSM1550567       GSM1550568       GSM1550569       GSM1550570    \n",
       " Min.   : 4.128   Min.   : 4.114   Min.   : 4.119   Min.   : 4.120  \n",
       " 1st Qu.: 4.288   1st Qu.: 4.291   1st Qu.: 4.279   1st Qu.: 4.287  \n",
       " Median : 4.483   Median : 4.482   Median : 4.479   Median : 4.477  \n",
       " Mean   : 4.891   Mean   : 4.888   Mean   : 4.891   Mean   : 4.892  \n",
       " 3rd Qu.: 5.071   3rd Qu.: 5.070   3rd Qu.: 5.080   3rd Qu.: 5.075  \n",
       " Max.   :12.584   Max.   :12.567   Max.   :12.623   Max.   :12.513  "
      ]
     },
     "metadata": {},
     "output_type": "display_data"
    }
   ],
   "source": [
    "# From this output we clearly see that the values go beyond 16, \n",
    "# so we need to perform a log2 transformation.\n",
    "exprs(gse) <- log2(exprs(gse))\n",
    "\n",
    "# check again the summary\n",
    "summary(exprs(gse))"
   ]
  },
  {
   "cell_type": "code",
   "execution_count": 15,
   "metadata": {
    "vscode": {
     "languageId": "r"
    }
   },
   "outputs": [
    {
     "data": {
      "image/png": "[encoded data removed]",
      "text/plain": [
       "plot without title"
      ]
     },
     "metadata": {
      "image/png": {
       "height": 420,
       "width": 420
      }
     },
     "output_type": "display_data"
    }
   ],
   "source": [
    "boxplot(exprs(gse),outline=F)"
   ]
  }
 ],
 "metadata": {
  "kernelspec": {
   "display_name": "R",
   "language": "R",
   "name": "ir"
  },
  "language_info": {
   "codemirror_mode": "r",
   "file_extension": ".r",
   "mimetype": "text/x-r-source",
   "name": "R",
   "pygments_lexer": "r",
   "version": "4.3.2"
  }
 },
 "nbformat": 4,
 "nbformat_minor": 2
}
