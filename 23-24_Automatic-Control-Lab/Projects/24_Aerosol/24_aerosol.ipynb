{
 "cells": [
  {
   "cell_type": "code",
   "execution_count": 1,
   "metadata": {},
   "outputs": [
    {
     "name": "stdout",
     "output_type": "stream",
     "text": [
      "Requirement already satisfied: h5py in /home/sunzid/anaconda3/lib/python3.12/site-packages (3.11.0)\n",
      "Requirement already satisfied: numpy>=1.17.3 in /home/sunzid/anaconda3/lib/python3.12/site-packages (from h5py) (1.26.4)\n"
     ]
    }
   ],
   "source": [
    "!pip install h5py"
   ]
  },
  {
   "cell_type": "markdown",
   "metadata": {},
   "source": [
    "## Data"
   ]
  },
  {
   "cell_type": "code",
   "execution_count": 7,
   "metadata": {},
   "outputs": [
    {
     "name": "stdout",
     "output_type": "stream",
     "text": [
      "Keys: ['geometry', 'inputs', 'outputs']\n",
      "Pace 318\n",
      "\n",
      "first_geometry shape:  (3,) first_geometry:  [0.08914796 0.16880947 0.10318343] \n",
      "\n",
      "first_input shape:  (11,) first_input:  [0.08572294 0.61110255 0.85597203 0.82917943 0.00633835 0.73598566\n",
      " 0.30098127 0.25647371 0.17699116 0.09897413 0.00674982] \n",
      "\n",
      "first_output shape:  (22,) first_output:  [0.02365114 0.15301892 0.12525921 0.09508325 0.06724529 0.04895108\n",
      " 0.02794279 0.02531836 0.01383378 0.0101849  0.00736416 0.56117202\n",
      " 0.64358048 0.63291136 0.6215687  0.60499423 0.60844916 0.58988128\n",
      " 0.5607913  0.51324512 0.48958556 0.47816882] \n",
      "\n",
      "\n",
      "\n",
      "\n",
      "Keys: ['geometry', 'inputs', 'outputs']\n",
      "Pace 325\n",
      "\n",
      "first_geometry shape:  (3,) first_geometry:  [0.43138777 0.04664672 0.18537623] \n",
      "\n",
      "first_input shape:  (14,) first_input:  [0.3338711  0.58466833 0.69590435 0.95397432 0.52926811 0.89549399\n",
      " 0.72597417 0.74137618 0.19366376 0.40013094 0.98825008 0.07634631\n",
      " 0.9805122  0.84911726] \n",
      "\n",
      "first_output shape:  (22,) first_output:  [0.03969655 0.09654982 0.08385258 0.0716215  0.05741165 0.05011574\n",
      " 0.04133835 0.03916471 0.03380633 0.03102674 0.02968379 0.48890381\n",
      " 0.62460913 0.61192344 0.59475986 0.56691323 0.5542926  0.51194333\n",
      " 0.49033868 0.45832174 0.45026065 0.45405636] \n",
      "\n"
     ]
    }
   ],
   "source": [
    "import h5py\n",
    "import glob\n",
    "\n",
    "path = '/home/sunzid/Research/23-24_Automatic-Control-Lab/Projects/24_Aerosol/data/'\n",
    "pace318_train = glob.glob(path + 'pace318_train_set/H5/*.h5')\n",
    "pace318_test = glob.glob(path + 'pace318_test_set/H5/*.h5')\n",
    "\n",
    "rowNum = 3\n",
    "\n",
    "if pace318_train:\n",
    "    with h5py.File(pace318_train[0], 'r') as file:\n",
    "        print(\"Keys: %s\" % list(file.keys()))\n",
    "        first_geometry = file['geometry'][rowNum]\n",
    "        first_input = file['inputs'][rowNum]\n",
    "        first_output = file['outputs'][rowNum]\n",
    "\n",
    "        print('Pace 318\\n')\n",
    "        print(\"first_geometry shape: \", first_geometry.shape, \n",
    "              \"first_geometry: \", first_geometry, '\\n')\n",
    "        print(\"first_input shape: \", first_input.shape,\n",
    "              \"first_input: \", first_input, '\\n')\n",
    "        print(\"first_output shape: \", first_output.shape,\n",
    "              \"first_output: \", first_output, '\\n')\n",
    "        print('\\n\\n')\n",
    "\n",
    "else:\n",
    "    print(\"File not found\")\n",
    "\n",
    "pace325_train = glob.glob(path + 'pace325_train_set/H5/*.h5')\n",
    "pace325_test = glob.glob(path + 'pace325_test_set/H5/*.h5')\n",
    "\n",
    "if pace325_train:\n",
    "    with h5py.File(pace325_train[0], 'r') as file:\n",
    "        print(\"Keys: %s\" % list(file.keys()))\n",
    "        first_geometry = file['geometry'][rowNum]\n",
    "        first_input = file['inputs'][rowNum]\n",
    "        first_output = file['outputs'][rowNum]\n",
    "\n",
    "        print('Pace 325\\n')\n",
    "        print(\"first_geometry shape: \", first_geometry.shape, \n",
    "              \"first_geometry: \", first_geometry, '\\n')\n",
    "        print(\"first_input shape: \", first_input.shape,\n",
    "              \"first_input: \", first_input, '\\n')\n",
    "        print(\"first_output shape: \", first_output.shape,\n",
    "              \"first_output: \", first_output, '\\n')\n",
    "else:\n",
    "    print(\"File not found\")"
   ]
  },
  {
   "cell_type": "markdown",
   "metadata": {},
   "source": [
    "## Training loop: pace318_train input vs output"
   ]
  },
  {
   "cell_type": "code",
   "execution_count": null,
   "metadata": {},
   "outputs": [],
   "source": [
    "import torch\n",
    "from torch import nn\n",
    "from torch.utils.data import Dataset, DataLoader\n",
    "from sklearn.preprocessing import StandardScaler\n",
    "import h5py\n",
    "import glob"
   ]
  },
  {
   "cell_type": "code",
   "execution_count": 8,
   "metadata": {},
   "outputs": [
    {
     "name": "stdout",
     "output_type": "stream",
     "text": [
      "Batch 1\n",
      "Inputs: torch.Size([32, 11])\n",
      "Outputs: torch.Size([32, 22])\n"
     ]
    }
   ],
   "source": [
    "# Custom Dataset class\n",
    "class H5Dataset(Dataset):\n",
    "    def __init__(self, file_paths):\n",
    "        self.file_paths = file_paths\n",
    "    \n",
    "    def __len__(self):\n",
    "        # Assuming all files have the same number of rows for simplicity\n",
    "        with h5py.File(self.file_paths[0], 'r') as file:\n",
    "            return file['geometry'].shape[0]\n",
    "    \n",
    "    def __getitem__(self, idx):\n",
    "        # Load data from the first file for simplicity (can extend this for multiple files)\n",
    "        with h5py.File(self.file_paths[0], 'r') as file:\n",
    "            input_data = file['inputs'][idx]\n",
    "            output_data = file['outputs'][idx]\n",
    "        \n",
    "        # Convert numpy arrays to PyTorch tensors\n",
    "        input_tensor = torch.tensor(input_data, dtype=torch.float32)\n",
    "        output_tensor = torch.tensor(output_data, dtype=torch.float32)\n",
    "        \n",
    "        return input_tensor, output_tensor\n",
    "\n",
    "# Path to the .h5 files\n",
    "path = '/home/sunzid/Research/23-24_Automatic-Control-Lab/Projects/24_Aerosol/data/'\n",
    "pace318_train = glob.glob(path + 'pace318_train_set/H5/*.h5')\n",
    "pace318_test = glob.glob(path + 'pace318_test_set/H5/*.h5')\n",
    "\n",
    "# Create the dataset and dataloader\n",
    "train_data = H5Dataset(pace318_train)\n",
    "dataloader = DataLoader(train_data, batch_size=32, shuffle=True)\n",
    "\n",
    "# Example: Iterate over the dataloader\n",
    "for batch_idx, (inputs, outputs) in enumerate(dataloader):\n",
    "    print(f\"Batch {batch_idx + 1}\")\n",
    "    print(f\"Inputs: {inputs.shape}\")\n",
    "    print(f\"Outputs: {outputs.shape}\")\n",
    "    break  # Just showing one batch as an example\n"
   ]
  },
  {
   "cell_type": "code",
   "execution_count": 9,
   "metadata": {},
   "outputs": [],
   "source": [
    "import torch\n",
    "import torch.nn as nn\n",
    "import torch.optim as optim\n",
    "from torch.utils.data import DataLoader\n",
    "\n",
    "# Check if a GPU is available, otherwise fall back to CPU\n",
    "device = torch.device('cuda' if torch.cuda.is_available() else 'cpu')\n",
    "\n",
    "# Define the regression model (a simple feedforward network)\n",
    "class RegressionModel(nn.Module):\n",
    "    def __init__(self, input_size, output_size):\n",
    "        super(RegressionModel, self).__init__()\n",
    "        self.fc1 = nn.Linear(input_size, 64)\n",
    "        self.fc2 = nn.Linear(64, 128)\n",
    "        self.fc3 = nn.Linear(128, output_size)\n",
    "    \n",
    "    def forward(self, x):\n",
    "        x = torch.relu(self.fc1(x))\n",
    "        x = torch.relu(self.fc2(x))\n",
    "        x = self.fc3(x)\n",
    "        return x\n",
    "\n",
    "# Instantiate the model and move it to the GPU (if available)\n",
    "input_size = 11  # Input shape (11 features)\n",
    "output_size = 22  # Output shape (22 features)\n",
    "model = RegressionModel(input_size, output_size).to(device)\n",
    "\n",
    "# Define loss function and optimizer\n",
    "criterion = nn.MSELoss()  # Mean Squared Error for regression\n",
    "optimizer = optim.Adam(model.parameters(), lr=0.001)  # Adam optimizer\n",
    "\n",
    "# Create the dataset and dataloader (assuming H5Dataset is defined elsewhere)\n",
    "train_data = H5Dataset(pace318_train)\n",
    "train_dataloader = DataLoader(train_data, batch_size=32, shuffle=True)\n",
    "\n",
    "test_data = H5Dataset(pace318_test)\n",
    "test_dataloader = DataLoader(test_data, batch_size=32, shuffle=False)\n",
    "\n",
    "# Training loop\n",
    "num_epochs = 20  # Number of training epochs\n",
    "\n",
    "epoch_count = []\n",
    "train_loss_values = []\n",
    "test_loss_values = []\n"
   ]
  },
  {
   "cell_type": "code",
   "execution_count": null,
   "metadata": {},
   "outputs": [],
   "source": [
    "\n",
    "for epoch in range(num_epochs):\n",
    "    model.train()  # Set model to training mode\n",
    "    train_loss = 0.0  # Track the total loss for this epoch\n",
    "\n",
    "    for inputs, targets in train_dataloader:\n",
    "        # Move inputs and targets to the GPU (if available)\n",
    "        inputs, targets = inputs.to(device), targets.to(device)\n",
    "\n",
    "        # Zero the parameter gradients\n",
    "        optimizer.zero_grad()\n",
    "\n",
    "        # Forward pass: compute the model output\n",
    "        outputs = model(inputs)\n",
    "\n",
    "        # Compute the loss\n",
    "        loss = criterion(outputs, targets)\n",
    "\n",
    "        # Backward pass: compute the gradients\n",
    "        loss.backward()\n",
    "\n",
    "        # Update the weights\n",
    "        optimizer.step()\n",
    "\n",
    "        # Accumulate the training loss\n",
    "        train_loss += loss.item()\n",
    "\n",
    "    # Calculate average training loss for this epoch\n",
    "    avg_train_loss = train_loss / len(train_dataloader)\n",
    "    train_loss_values.append(avg_train_loss)\n",
    "\n",
    "    # Evaluate on the test set\n",
    "    model.eval()  # Set model to evaluation mode\n",
    "    test_loss = 0.0  # Track total test loss for this epoch\n",
    "\n",
    "    with torch.inference_mode():  # No gradients needed\n",
    "        for inputs, targets in test_dataloader:\n",
    "            inputs, targets = inputs.to(device), targets.to(device)\n",
    "            outputs = model(inputs)\n",
    "            loss = criterion(outputs, targets)\n",
    "            test_loss += loss.item()\n",
    "\n",
    "    # Calculate average test loss for this epoch\n",
    "    avg_test_loss = test_loss / len(test_dataloader)\n",
    "    test_loss_values.append(avg_test_loss)\n",
    "\n",
    "    # Store the epoch number\n",
    "    epoch_count.append(epoch + 1)\n",
    "\n",
    "    # Print the average losses for this epoch\n",
    "    print(f'Epoch [{epoch + 1}/{num_epochs}], Train Loss: {avg_train_loss:.4f}, Test Loss: {avg_test_loss:.4f}')\n",
    "\n",
    "# Save the trained model\n",
    "# torch.save(model.state_dict(), 'regression_model.pth')\n",
    "\n",
    "print(\"Training complete and model saved.\")\n"
   ]
  },
  {
   "cell_type": "code",
   "execution_count": 20,
   "metadata": {},
   "outputs": [
    {
     "data": {
      "image/png": "[encoded data removed]",
      "text/plain": [
       "<Figure size 640x480 with 1 Axes>"
      ]
     },
     "metadata": {},
     "output_type": "display_data"
    }
   ],
   "source": [
    "import matplotlib.pyplot as plt\n",
    "\n",
    "# Plot train and test loss values\n",
    "plt.plot(epoch_count, train_loss_values, label=\"Train loss\")\n",
    "plt.plot(epoch_count, test_loss_values, label=\"Test loss\")\n",
    "plt.title(\"Train and Test Loss Curves\")\n",
    "plt.xlabel(\"Epochs\")\n",
    "plt.ylabel(\"Loss\")\n",
    "plt.legend()\n",
    "\n",
    "# Set x-ticks to show integers only\n",
    "plt.xticks(ticks=epoch_count)\n",
    "\n",
    "plt.show()\n"
   ]
  },
  {
   "cell_type": "markdown",
   "metadata": {},
   "source": [
    "## Training with Both Geometry and Input"
   ]
  },
  {
   "cell_type": "code",
   "execution_count": 13,
   "metadata": {},
   "outputs": [
    {
     "name": "stdout",
     "output_type": "stream",
     "text": [
      "Batch 1\n",
      "Geometry: torch.Size([32, 3])\n",
      "Inputs: torch.Size([32, 11])\n",
      "Outputs: torch.Size([32, 22])\n"
     ]
    }
   ],
   "source": [
    "import torch\n",
    "from torch.utils.data import Dataset\n",
    "import h5py\n",
    "import glob\n",
    "\n",
    "# Custom Dataset class\n",
    "class H5Dataset(Dataset):\n",
    "    def __init__(self, file_paths):\n",
    "        self.file_paths = file_paths\n",
    "    \n",
    "    def __len__(self):\n",
    "        # Assuming all files have the same number of rows for simplicity\n",
    "        with h5py.File(self.file_paths[0], 'r') as file:\n",
    "            return file['geometry'].shape[0]\n",
    "    \n",
    "    def __getitem__(self, idx):\n",
    "        # Load data from the first file for simplicity (can extend this for multiple files)\n",
    "        with h5py.File(self.file_paths[0], 'r') as file:\n",
    "            geometry_data = file['geometry'][idx]   # Shape: (3,)\n",
    "            input_data = file['inputs'][idx]        # Shape: (11,)\n",
    "            output_data = file['outputs'][idx]      # Shape: (22,)\n",
    "        \n",
    "        # Convert numpy arrays to PyTorch tensors\n",
    "        geometry_tensor = torch.tensor(geometry_data, dtype=torch.float32)\n",
    "        input_tensor = torch.tensor(input_data, dtype=torch.float32)\n",
    "        output_tensor = torch.tensor(output_data, dtype=torch.float32)\n",
    "        \n",
    "        return geometry_tensor, input_tensor, output_tensor\n",
    "\n",
    "# Path to the .h5 files\n",
    "path = '/home/sunzid/Research/23-24_Automatic-Control-Lab/Projects/24_Aerosol/data/'\n",
    "pace318_train = glob.glob(path + 'pace318_train_set/H5/*.h5')\n",
    "pace318_test = glob.glob(path + 'pace318_test_set/H5/*.h5')\n",
    "\n",
    "# Create the dataset and dataloader\n",
    "train_data = H5Dataset(pace318_train)\n",
    "train_dataloader = DataLoader(train_data, batch_size=32, shuffle=True)\n",
    "\n",
    "# Example: Iterate over the dataloader\n",
    "for batch_idx, (geometry, inputs, outputs) in enumerate(train_dataloader):\n",
    "    print(f\"Batch {batch_idx + 1}\")\n",
    "    print(f\"Geometry: {geometry.shape}\")  # Expected shape: (batch_size, 3)\n",
    "    print(f\"Inputs: {inputs.shape}\")      # Expected shape: (batch_size, 11)\n",
    "    print(f\"Outputs: {outputs.shape}\")    # Expected shape: (batch_size, 22)\n",
    "    break  # Just showing one batch as an example\n"
   ]
  },
  {
   "cell_type": "code",
   "execution_count": null,
   "metadata": {},
   "outputs": [],
   "source": [
    "# Create the dataset and dataloader (assuming H5Dataset is defined elsewhere)\n",
    "train_data = H5Dataset(pace318_train)\n",
    "train_dataloader = DataLoader(train_data, batch_size=32, shuffle=True)\n",
    "\n",
    "test_data = H5Dataset(pace318_test)\n",
    "test_dataloader = DataLoader(test_data, batch_size=32, shuffle=False)\n"
   ]
  },
  {
   "cell_type": "code",
   "execution_count": null,
   "metadata": {},
   "outputs": [],
   "source": [
    "import torch\n",
    "import torch.nn as nn\n",
    "import torch.optim as optim\n",
    "from torch.utils.data import DataLoader\n",
    "\n",
    "# Check if a GPU is available, otherwise fall back to CPU\n",
    "device = torch.device('cuda' if torch.cuda.is_available() else 'cpu')\n",
    "\n",
    "# Define the combined regression model\n",
    "class CombinedRegressionModel(nn.Module):\n",
    "    def __init__(self, geometry_size, input_size, output_size):\n",
    "        super(CombinedRegressionModel, self).__init__()\n",
    "        self.fc1 = nn.Linear(geometry_size + input_size, 64)\n",
    "        self.fc2 = nn.Linear(64, 128)\n",
    "        self.fc3 = nn.Linear(128, output_size)\n",
    "    \n",
    "    def forward(self, geometry, input_data):\n",
    "        # Concatenate geometry and input tensors along the last dimension\n",
    "        x = torch.cat((geometry, input_data), dim=-1)\n",
    "        x = torch.relu(self.fc1(x))\n",
    "        x = torch.relu(self.fc2(x))\n",
    "        x = self.fc3(x)\n",
    "        return x\n"
   ]
  },
  {
   "cell_type": "code",
   "execution_count": null,
   "metadata": {},
   "outputs": [],
   "source": [
    "\n",
    "# Instantiate the model and move it to the GPU (if available)\n",
    "geometry_size = 3  # Geometry shape (3 features)\n",
    "input_size = 11  # Input shape (11 features)\n",
    "output_size = 22  # Output shape (22 features)\n",
    "model = CombinedRegressionModel(geometry_size, input_size, output_size).to(device)\n",
    "\n",
    "# Define loss function and optimizer\n",
    "criterion = nn.MSELoss()  # Mean Squared Error for regression\n",
    "optimizer = optim.Adam(model.parameters(), lr=0.001)  # Adam optimizer\n",
    "\n",
    "# Training loop\n",
    "num_epochs = 2  # Number of training epochs\n",
    "\n",
    "epoch_count = []\n",
    "train_loss_values = []\n",
    "test_loss_values = []\n"
   ]
  },
  {
   "cell_type": "code",
   "execution_count": 15,
   "metadata": {},
   "outputs": [
    {
     "name": "stdout",
     "output_type": "stream",
     "text": [
      "Epoch [1/2], Train Loss: 0.0013, Test Loss: 0.0080\n",
      "Epoch [2/2], Train Loss: 0.0003, Test Loss: 0.0080\n",
      "Training complete and model saved.\n"
     ]
    }
   ],
   "source": [
    "\n",
    "for epoch in range(num_epochs):\n",
    "    model.train()  # Set model to training mode\n",
    "    train_loss = 0.0  # Track the total loss for this epoch\n",
    "\n",
    "    for geometry, inputs, targets in train_dataloader:\n",
    "        # Move inputs, geometry, and targets to the GPU (if available)\n",
    "        geometry, inputs, targets = geometry.to(device), inputs.to(device), targets.to(device)\n",
    "\n",
    "        # Zero the parameter gradients\n",
    "        optimizer.zero_grad()\n",
    "\n",
    "        # Forward pass: compute the model output\n",
    "        outputs = model(geometry, inputs)\n",
    "\n",
    "        # Compute the loss\n",
    "        loss = criterion(outputs, targets)\n",
    "\n",
    "        # Backward pass: compute the gradients\n",
    "        loss.backward()\n",
    "\n",
    "        # Update the weights\n",
    "        optimizer.step()\n",
    "\n",
    "        # Accumulate the training loss\n",
    "        train_loss += loss.item()\n",
    "\n",
    "    # Calculate average training loss for this epoch\n",
    "    avg_train_loss = train_loss / len(train_dataloader)\n",
    "    train_loss_values.append(avg_train_loss)\n",
    "\n",
    "    # Evaluate on the test set\n",
    "    model.eval()  # Set model to evaluation mode\n",
    "    test_loss = 0.0  # Track total test loss for this epoch\n",
    "\n",
    "    with torch.inference_mode():  # No gradients needed\n",
    "        for geometry, inputs, targets in test_dataloader:\n",
    "            geometry, inputs, targets = geometry.to(device), inputs.to(device), targets.to(device)\n",
    "            outputs = model(geometry, inputs)\n",
    "            loss = criterion(outputs, targets)\n",
    "            test_loss += loss.item()\n",
    "\n",
    "    # Calculate average test loss for this epoch\n",
    "    avg_test_loss = test_loss / len(test_dataloader)\n",
    "    test_loss_values.append(avg_test_loss)\n",
    "\n",
    "    # Store the epoch number\n",
    "    epoch_count.append(epoch + 1)\n",
    "\n",
    "    # Print the average losses for this epoch\n",
    "    print(f'Epoch [{epoch + 1}/{num_epochs}], Train Loss: {avg_train_loss:.4f}, Test Loss: {avg_test_loss:.4f}')\n",
    "\n",
    "# Save the trained model\n",
    "# torch.save(model.state_dict(), 'combined_regression_model.pth')\n",
    "\n",
    "print(\"Training complete and model saved.\")\n"
   ]
  },
  {
   "cell_type": "code",
   "execution_count": 16,
   "metadata": {},
   "outputs": [
    {
     "data": {
      "image/png": "[encoded data removed]",
      "text/plain": [
       "<Figure size 640x480 with 1 Axes>"
      ]
     },
     "metadata": {},
     "output_type": "display_data"
    }
   ],
   "source": [
    "import matplotlib.pyplot as plt\n",
    "\n",
    "# Plot train and test loss values\n",
    "plt.plot(epoch_count, train_loss_values, label=\"Train loss\")\n",
    "plt.plot(epoch_count, test_loss_values, label=\"Test loss\")\n",
    "plt.title(\"Train and Test Loss Curves\")\n",
    "plt.xlabel(\"Epochs\")\n",
    "plt.ylabel(\"Loss\")\n",
    "plt.legend()\n",
    "\n",
    "# Set x-ticks to show integers only\n",
    "plt.xticks(ticks=epoch_count)\n",
    "\n",
    "plt.show()\n"
   ]
  },
  {
   "cell_type": "markdown",
   "metadata": {},
   "source": [
    "## Model with Conv layers"
   ]
  },
  {
   "cell_type": "code",
   "execution_count": 17,
   "metadata": {},
   "outputs": [],
   "source": [
    "import torch\n",
    "import torch.nn as nn\n",
    "\n",
    "class CombinedRegressionModelWithConv(nn.Module):\n",
    "    def __init__(self, geometry_size, input_size, output_size):\n",
    "        super(CombinedRegressionModelWithConv, self).__init__()\n",
    "        \n",
    "        # Convolutional layers for feature extraction\n",
    "        self.conv1 = nn.Conv1d(in_channels=1, out_channels=8, kernel_size=3, stride=1, padding=1)\n",
    "        self.conv2 = nn.Conv1d(in_channels=8, out_channels=16, kernel_size=3, stride=1, padding=1)\n",
    "        \n",
    "        # Fully connected layers after flattening\n",
    "        self.fc1 = nn.Linear((geometry_size + input_size) * 16, 64)\n",
    "        self.fc2 = nn.Linear(64, 128)\n",
    "        self.fc3 = nn.Linear(128, output_size)\n",
    "    \n",
    "    def forward(self, geometry, input_data):\n",
    "        # Concatenate geometry and input tensors along the last dimension\n",
    "        x = torch.cat((geometry, input_data), dim=-1)\n",
    "        \n",
    "        # Reshape to add a channel dimension for 1D convolution: (batch_size, 1, total_size)\n",
    "        x = x.unsqueeze(1)  # Shape: (batch_size, 1, geometry_size + input_size)\n",
    "        \n",
    "        # Apply convolutional layers with ReLU activation and pooling\n",
    "        x = torch.relu(self.conv1(x))\n",
    "        x = torch.relu(self.conv2(x))\n",
    "        \n",
    "        # Flatten the output from convolutional layers\n",
    "        x = x.view(x.size(0), -1)\n",
    "        \n",
    "        # Fully connected layers\n",
    "        x = torch.relu(self.fc1(x))\n",
    "        x = torch.relu(self.fc2(x))\n",
    "        x = self.fc3(x)\n",
    "        \n",
    "        return x\n"
   ]
  },
  {
   "cell_type": "code",
   "execution_count": 20,
   "metadata": {},
   "outputs": [],
   "source": [
    "\n",
    "# Instantiate the model and move it to the GPU (if available)\n",
    "geometry_size = 3  # Geometry shape (3 features)\n",
    "input_size = 11  # Input shape (11 features)\n",
    "output_size = 22  # Output shape (22 features)\n",
    "pace318_conv_model = CombinedRegressionModelWithConv(geometry_size, input_size, output_size).to(device)\n",
    "\n",
    "# Define loss function and optimizer\n",
    "criterion = nn.MSELoss()  # Mean Squared Error for regression\n",
    "optimizer = optim.Adam(pace318_conv_model.parameters(), lr=0.001)  # Adam optimizer\n",
    "\n",
    "# Training loop\n",
    "num_epochs = 1  # Number of training epochs\n",
    "\n",
    "epoch_count = []\n",
    "train_loss_values = []\n",
    "test_loss_values = []\n"
   ]
  },
  {
   "cell_type": "code",
   "execution_count": 21,
   "metadata": {},
   "outputs": [
    {
     "name": "stdout",
     "output_type": "stream",
     "text": [
      "Epoch [1/1], Train Loss: 0.0015, Test Loss: 0.0075\n",
      "Training complete and model saved.\n"
     ]
    }
   ],
   "source": [
    "\n",
    "for epoch in range(num_epochs):\n",
    "    pace318_conv_model.train()  # Set model to training mode\n",
    "    train_loss = 0.0  # Track the total loss for this epoch\n",
    "\n",
    "    for geometry, inputs, targets in train_dataloader:\n",
    "        # Move inputs, geometry, and targets to the GPU (if available)\n",
    "        geometry, inputs, targets = geometry.to(device), inputs.to(device), targets.to(device)\n",
    "\n",
    "        # Zero the parameter gradients\n",
    "        optimizer.zero_grad()\n",
    "\n",
    "        # Forward pass: compute the model output\n",
    "        outputs = pace318_conv_model(geometry, inputs)\n",
    "\n",
    "        # Compute the loss\n",
    "        loss = criterion(outputs, targets)\n",
    "\n",
    "        # Backward pass: compute the gradients\n",
    "        loss.backward()\n",
    "\n",
    "        # Update the weights\n",
    "        optimizer.step()\n",
    "\n",
    "        # Accumulate the training loss\n",
    "        train_loss += loss.item()\n",
    "\n",
    "    # Calculate average training loss for this epoch\n",
    "    avg_train_loss = train_loss / len(train_dataloader)\n",
    "    train_loss_values.append(avg_train_loss)\n",
    "\n",
    "    # Evaluate on the test set\n",
    "    pace318_conv_model.eval()  # Set model to evaluation mode\n",
    "    test_loss = 0.0  # Track total test loss for this epoch\n",
    "\n",
    "    with torch.inference_mode():  # No gradients needed\n",
    "        for geometry, inputs, targets in test_dataloader:\n",
    "            geometry, inputs, targets = geometry.to(device), inputs.to(device), targets.to(device)\n",
    "            outputs = pace318_conv_model(geometry, inputs)\n",
    "            loss = criterion(outputs, targets)\n",
    "            test_loss += loss.item()\n",
    "\n",
    "    # Calculate average test loss for this epoch\n",
    "    avg_test_loss = test_loss / len(test_dataloader)\n",
    "    test_loss_values.append(avg_test_loss)\n",
    "\n",
    "    # Store the epoch number\n",
    "    epoch_count.append(epoch + 1)\n",
    "\n",
    "    # Print the average losses for this epoch\n",
    "    print(f'Epoch [{epoch + 1}/{num_epochs}], Train Loss: {avg_train_loss:.4f}, Test Loss: {avg_test_loss:.4f}')\n",
    "\n",
    "# Save the trained model\n",
    "# torch.save(model.state_dict(), 'combined_regression_model.pth')\n",
    "\n",
    "print(\"Training complete and model saved.\")\n"
   ]
  },
  {
   "cell_type": "code",
   "execution_count": null,
   "metadata": {},
   "outputs": [
    {
     "data": {
      "image/png": "[encoded data removed]",
      "text/plain": [
       "<Figure size 640x480 with 1 Axes>"
      ]
     },
     "metadata": {},
     "output_type": "display_data"
    }
   ],
   "source": [
    "import matplotlib.pyplot as plt\n",
    "\n",
    "# Plot train and test loss values\n",
    "plt.plot(epoch_count, train_loss_values, label=\"Train loss\")\n",
    "plt.plot(epoch_count, test_loss_values, label=\"Test loss\")\n",
    "plt.title(\"Train and Test Loss Curves\")\n",
    "plt.xlabel(\"Epochs\")\n",
    "plt.ylabel(\"Loss\")\n",
    "plt.legend()\n",
    "\n",
    "# Set x-ticks to show integers only\n",
    "plt.xticks(ticks=epoch_count)\n",
    "\n",
    "plt.show()\n"
   ]
  },
  {
   "cell_type": "markdown",
   "metadata": {},
   "source": [
    "## Transformer model"
   ]
  },
  {
   "cell_type": "code",
   "execution_count": 26,
   "metadata": {},
   "outputs": [],
   "source": [
    "import torch\n",
    "import torch.nn as nn\n",
    "import torch.optim as optim\n",
    "\n",
    "class TransformerModel(nn.Module):\n",
    "    def __init__(self, geometry_size, input_size, output_size, n_heads=2, hidden_dim=128):\n",
    "        super(TransformerModel, self).__init__()\n",
    "        \n",
    "        self.concat_dim = geometry_size + input_size\n",
    "        \n",
    "        # Ensure concatenated dimension is divisible by n_heads\n",
    "        assert self.concat_dim % n_heads == 0, \"Concat dimension must be divisible by num_heads\"\n",
    "        \n",
    "        encoder_layer = nn.TransformerEncoderLayer(d_model=self.concat_dim, nhead=n_heads)\n",
    "        self.transformer = nn.TransformerEncoder(encoder_layer, num_layers=2)\n",
    "        \n",
    "        self.fc1 = nn.Linear(self.concat_dim, hidden_dim)\n",
    "        self.fc2 = nn.Linear(hidden_dim, output_size)\n",
    "    \n",
    "    def forward(self, geometry, input_data):\n",
    "        x = torch.cat((geometry, input_data), dim=-1).unsqueeze(1)  # Add sequence dimension\n",
    "        x = self.transformer(x).squeeze(1)\n",
    "        x = torch.relu(self.fc1(x))\n",
    "        x = self.fc2(x)\n",
    "        return x\n",
    "\n"
   ]
  },
  {
   "cell_type": "code",
   "execution_count": 27,
   "metadata": {},
   "outputs": [
    {
     "name": "stderr",
     "output_type": "stream",
     "text": [
      "/home/sunzid/anaconda3/lib/python3.12/site-packages/torch/nn/modules/transformer.py:307: UserWarning: enable_nested_tensor is True, but self.use_nested_tensor is False because encoder_layer.self_attn.batch_first was not True(use batch_first for better inference performance)\n",
      "  warnings.warn(f\"enable_nested_tensor is True, but self.use_nested_tensor is False because {why_not_sparsity_fast_path}\")\n"
     ]
    }
   ],
   "source": [
    "\n",
    "# Instantiate the model and move it to the GPU (if available)\n",
    "geometry_size = 3  # Geometry shape (3 features)\n",
    "input_size = 11    # Input shape (11 features)\n",
    "output_size = 22   # Output shape (22 features)\n",
    "transformer_model = TransformerModel(geometry_size, input_size, output_size, n_heads=2).to(device)\n",
    "\n",
    "# Define loss function and optimizer\n",
    "criterion = nn.MSELoss()  # Mean Squared Error for regression\n",
    "optimizer = optim.Adam(transformer_model.parameters(), lr=0.001)  # Adam optimizer\n",
    "\n",
    "\n",
    "epoch_count = []\n",
    "train_loss_values = []\n",
    "test_loss_values = []\n"
   ]
  },
  {
   "cell_type": "code",
   "execution_count": 28,
   "metadata": {},
   "outputs": [
    {
     "name": "stdout",
     "output_type": "stream",
     "text": [
      "Epoch [1/1], Train Loss: 0.0036, Test Loss: 0.0115\n",
      "Training complete and model saved.\n"
     ]
    }
   ],
   "source": [
    "\n",
    "for epoch in range(num_epochs):\n",
    "    transformer_model.train()  # Set model to training mode\n",
    "    train_loss = 0.0  # Track the total loss for this epoch\n",
    "\n",
    "    for geometry, inputs, targets in train_dataloader:\n",
    "        # Move inputs, geometry, and targets to the GPU (if available)\n",
    "        geometry, inputs, targets = geometry.to(device), inputs.to(device), targets.to(device)\n",
    "\n",
    "        # Zero the parameter gradients\n",
    "        optimizer.zero_grad()\n",
    "\n",
    "        # Forward pass: compute the model output\n",
    "        outputs = transformer_model(geometry, inputs)\n",
    "\n",
    "        # Compute the loss\n",
    "        loss = criterion(outputs, targets)\n",
    "\n",
    "        # Backward pass: compute the gradients\n",
    "        loss.backward()\n",
    "\n",
    "        # Update the weights\n",
    "        optimizer.step()\n",
    "\n",
    "        # Accumulate the training loss\n",
    "        train_loss += loss.item()\n",
    "\n",
    "    # Calculate average training loss for this epoch\n",
    "    avg_train_loss = train_loss / len(train_dataloader)\n",
    "    train_loss_values.append(avg_train_loss)\n",
    "\n",
    "    # Evaluate on the test set\n",
    "    transformer_model.eval()  # Set model to evaluation mode\n",
    "    test_loss = 0.0  # Track total test loss for this epoch\n",
    "\n",
    "    with torch.inference_mode():  # No gradients needed\n",
    "        for geometry, inputs, targets in test_dataloader:\n",
    "            geometry, inputs, targets = geometry.to(device), inputs.to(device), targets.to(device)\n",
    "            outputs = transformer_model(geometry, inputs)\n",
    "            loss = criterion(outputs, targets)\n",
    "            test_loss += loss.item()\n",
    "\n",
    "    # Calculate average test loss for this epoch\n",
    "    avg_test_loss = test_loss / len(test_dataloader)\n",
    "    test_loss_values.append(avg_test_loss)\n",
    "\n",
    "    # Store the epoch number\n",
    "    epoch_count.append(epoch + 1)\n",
    "\n",
    "    # Print the average losses for this epoch\n",
    "    print(f'Epoch [{epoch + 1}/{num_epochs}], Train Loss: {avg_train_loss:.4f}, Test Loss: {avg_test_loss:.4f}')\n",
    "\n",
    "# Save the trained model\n",
    "# torch.save(model.state_dict(), 'combined_regression_model.pth')\n",
    "\n",
    "print(\"Training complete and model saved.\")\n"
   ]
  },
  {
   "cell_type": "code",
   "execution_count": 29,
   "metadata": {},
   "outputs": [
    {
     "data": {
      "image/png": "[encoded data removed]",
      "text/plain": [
       "<Figure size 640x480 with 1 Axes>"
      ]
     },
     "metadata": {},
     "output_type": "display_data"
    }
   ],
   "source": [
    "import matplotlib.pyplot as plt\n",
    "\n",
    "# Plot train and test loss values\n",
    "plt.plot(epoch_count, train_loss_values, label=\"Train loss\")\n",
    "plt.plot(epoch_count, test_loss_values, label=\"Test loss\")\n",
    "plt.title(\"Train and Test Loss Curves\")\n",
    "plt.xlabel(\"Epochs\")\n",
    "plt.ylabel(\"Loss\")\n",
    "plt.legend()\n",
    "\n",
    "# Set x-ticks to show integers only\n",
    "plt.xticks(ticks=epoch_count)\n",
    "\n",
    "plt.show()\n"
   ]
  },
  {
   "cell_type": "markdown",
   "metadata": {},
   "source": [
    "## Testing performance"
   ]
  },
  {
   "cell_type": "markdown",
   "metadata": {},
   "source": [
    "### Show performance graphically"
   ]
  },
  {
   "cell_type": "markdown",
   "metadata": {},
   "source": [
    "1. Line Plot for Each Feature\n",
    "Plotting each of the 22 features with separate line plots lets you clearly compare the predicted and actual values for each feature across samples."
   ]
  },
  {
   "cell_type": "code",
   "execution_count": 30,
   "metadata": {},
   "outputs": [],
   "source": [
    "import matplotlib.pyplot as plt\n",
    "\n",
    "def plot_output_comparison(y_true, y_pred, sample_idx=0):\n",
    "    plt.figure(figsize=(15, 10))\n",
    "    for i in range(22):\n",
    "        plt.subplot(5, 5, i + 1)\n",
    "        plt.plot(y_true[:, i], label='Actual', color='blue')\n",
    "        plt.plot(y_pred[:, i], label='Predicted', color='red', linestyle='--')\n",
    "        plt.title(f'Output {i+1}')\n",
    "        plt.legend()\n",
    "    plt.tight_layout()\n",
    "    plt.show()\n"
   ]
  },
  {
   "cell_type": "code",
   "execution_count": null,
   "metadata": {},
   "outputs": [],
   "source": []
  },
  {
   "cell_type": "markdown",
   "metadata": {},
   "source": [
    "2. Scatter Plot of Actual vs. Predicted for Each Feature\n",
    "A scatter plot for each output feature can show the relationship between actual and predicted values. Ideally, points should fall along the 45-degree line if predictions are accurate."
   ]
  },
  {
   "cell_type": "code",
   "execution_count": null,
   "metadata": {},
   "outputs": [],
   "source": [
    "import numpy as np\n",
    "\n",
    "def scatter_plot_comparison(y_true, y_pred):\n",
    "    plt.figure(figsize=(15, 10))\n",
    "    for i in range(22):\n",
    "        plt.subplot(5, 5, i + 1)\n",
    "        plt.scatter(y_true[:, i], y_pred[:, i], alpha=0.5)\n",
    "        plt.plot([y_true.min(), y_true.max()], [y_true.min(), y_true.max()], 'k--', lw=2)\n",
    "        plt.xlabel(\"Actual\")\n",
    "        plt.ylabel(\"Predicted\")\n",
    "        plt.title(f'Output {i+1}')\n",
    "    plt.tight_layout()\n",
    "    plt.show()\n"
   ]
  },
  {
   "cell_type": "markdown",
   "metadata": {},
   "source": [
    "3. Bar Plot of Error for Each Output Feature\n",
    "Calculate the mean absolute error for each output feature across all samples, then plot as a bar chart to compare errors per feature."
   ]
  },
  {
   "cell_type": "code",
   "execution_count": null,
   "metadata": {},
   "outputs": [],
   "source": [
    "import numpy as np\n",
    "\n",
    "def plot_error_bar(y_true, y_pred):\n",
    "    errors = np.abs(y_true - y_pred).mean(axis=0)  # Mean absolute error for each output feature\n",
    "    plt.figure(figsize=(10, 5))\n",
    "    plt.bar(range(1, 23), errors, color='orange')\n",
    "    plt.xlabel('Output Feature')\n",
    "    plt.ylabel('Mean Absolute Error')\n",
    "    plt.title('Mean Absolute Error per Output Feature')\n",
    "    plt.show()\n"
   ]
  },
  {
   "cell_type": "markdown",
   "metadata": {},
   "source": [
    "4. Overlayed Line Plot of Sample Predictions\n",
    "Plot predictions and actual values for all features of a single sample, with each feature represented by a different line in the same plot."
   ]
  },
  {
   "cell_type": "code",
   "execution_count": null,
   "metadata": {},
   "outputs": [],
   "source": [
    "def plot_single_sample_comparison(y_true, y_pred, sample_idx=0):\n",
    "    plt.figure(figsize=(10, 6))\n",
    "    plt.plot(y_true[sample_idx], label=\"Actual\", marker='o', color='blue')\n",
    "    plt.plot(y_pred[sample_idx], label=\"Predicted\", marker='x', color='red')\n",
    "    plt.xlabel('Output Feature')\n",
    "    plt.ylabel('Value')\n",
    "    plt.title(f'Comparison for Sample {sample_idx + 1}')\n",
    "    plt.legend()\n",
    "    plt.show()\n"
   ]
  },
  {
   "cell_type": "markdown",
   "metadata": {},
   "source": [
    "5. Heatmap of Prediction Errors\n",
    "Display a heatmap showing errors across multiple samples for all features, with each row representing a sample and each column representing an output feature."
   ]
  },
  {
   "cell_type": "code",
   "execution_count": null,
   "metadata": {},
   "outputs": [],
   "source": [
    "import seaborn as sns\n",
    "\n",
    "def plot_error_heatmap(y_true, y_pred):\n",
    "    errors = np.abs(y_true - y_pred)  # Calculate absolute error\n",
    "    plt.figure(figsize=(12, 8))\n",
    "    sns.heatmap(errors, cmap=\"coolwarm\", cbar=True)\n",
    "    plt.xlabel(\"Output Feature\")\n",
    "    plt.ylabel(\"Sample\")\n",
    "    plt.title(\"Absolute Errors for Each Sample and Output Feature\")\n",
    "    plt.show()\n"
   ]
  },
  {
   "cell_type": "markdown",
   "metadata": {},
   "source": [
    "### Performance tests\n"
   ]
  },
  {
   "cell_type": "markdown",
   "metadata": {},
   "source": [
    "1. Accuracy\n",
    "Definition: The ratio of correct predictions to the total number of predictions.\n",
    "Use Case: Suitable when classes are balanced."
   ]
  },
  {
   "cell_type": "code",
   "execution_count": null,
   "metadata": {},
   "outputs": [],
   "source": [
    "from sklearn.metrics import accuracy_score\n",
    "\n",
    "def compute_accuracy(y_true, y_pred):\n",
    "    accuracy = accuracy_score(y_true, y_pred)\n",
    "    print(f\"Accuracy: {accuracy:.2f}\")\n"
   ]
  },
  {
   "cell_type": "markdown",
   "metadata": {},
   "source": [
    "2. Confusion Matrix\n",
    "Definition: A table that shows the counts of true positives, true negatives, false positives, and false negatives for each class.\n",
    "Use Case: Helpful for visualizing performance across classes and identifying specific classes that the model struggles with."
   ]
  },
  {
   "cell_type": "code",
   "execution_count": null,
   "metadata": {},
   "outputs": [],
   "source": [
    "from sklearn.metrics import confusion_matrix\n",
    "import seaborn as sns\n",
    "import matplotlib.pyplot as plt\n",
    "\n",
    "def plot_confusion_matrix(y_true, y_pred):\n",
    "    cm = confusion_matrix(y_true, y_pred)\n",
    "    sns.heatmap(cm, annot=True, fmt=\"d\", cmap=\"Blues\")\n",
    "    plt.xlabel(\"Predicted\")\n",
    "    plt.ylabel(\"True\")\n",
    "    plt.show()\n"
   ]
  },
  {
   "cell_type": "markdown",
   "metadata": {},
   "source": [
    "3. Precision, Recall, and F1 Score\n",
    "Precision: Measures how many positive predictions were actually correct (useful for assessing false positives).\n",
    "Recall: Measures how many true positives were correctly identified (useful for assessing false negatives).\n",
    "F1 Score: The harmonic mean of precision and recall, giving a balanced metric for imbalanced classes.\n",
    "Use Case: Particularly helpful when class distribution is skewed, or for evaluating models in situations where false positives or false negatives have significant consequences.\n"
   ]
  },
  {
   "cell_type": "code",
   "execution_count": null,
   "metadata": {},
   "outputs": [],
   "source": [
    "from sklearn.metrics import precision_score, recall_score, f1_score\n",
    "\n",
    "def compute_classification_metrics(y_true, y_pred):\n",
    "    precision = precision_score(y_true, y_pred, average='weighted')\n",
    "    recall = recall_score(y_true, y_pred, average='weighted')\n",
    "    f1 = f1_score(y_true, y_pred, average='weighted')\n",
    "    print(f\"Precision: {precision:.2f}, Recall: {recall:.2f}, F1 Score: {f1:.2f}\")\n"
   ]
  },
  {
   "cell_type": "markdown",
   "metadata": {},
   "source": [
    "4. ROC Curve and AUC (Area Under the Curve)\n",
    "ROC Curve: Plots the true positive rate (TPR) against the false positive rate (FPR) at various classification thresholds.\n",
    "AUC: Measures the area under the ROC curve, with a higher AUC indicating better model performance across thresholds.\n",
    "Use Case: Useful for binary and multi-class classification, especially in situations with class imbalance."
   ]
  },
  {
   "cell_type": "code",
   "execution_count": null,
   "metadata": {},
   "outputs": [],
   "source": [
    "from sklearn.metrics import roc_auc_score, roc_curve\n",
    "import matplotlib.pyplot as plt\n",
    "\n",
    "def plot_roc_curve(y_true, y_proba):\n",
    "    fpr, tpr, _ = roc_curve(y_true, y_proba)\n",
    "    plt.plot(fpr, tpr, label=\"ROC Curve (AUC = %.2f)\" % roc_auc_score(y_true, y_proba))\n",
    "    plt.xlabel(\"False Positive Rate\")\n",
    "    plt.ylabel(\"True Positive Rate\")\n",
    "    plt.legend()\n",
    "    plt.show()\n"
   ]
  },
  {
   "cell_type": "markdown",
   "metadata": {},
   "source": [
    "5. Precision-Recall Curve and Average Precision (AP)\n",
    "Precision-Recall Curve: Plots precision against recall at various probability thresholds.\n",
    "Average Precision (AP): Summarizes the precision-recall curve as a single score, useful in the context of imbalanced datasets.\n",
    "Use Case: Particularly insightful for datasets with a high class imbalance."
   ]
  },
  {
   "cell_type": "code",
   "execution_count": null,
   "metadata": {},
   "outputs": [],
   "source": [
    "from sklearn.metrics import precision_recall_curve, average_precision_score\n",
    "\n",
    "def plot_precision_recall_curve(y_true, y_proba):\n",
    "    precision, recall, _ = precision_recall_curve(y_true, y_proba)\n",
    "    ap = average_precision_score(y_true, y_proba)\n",
    "    plt.plot(recall, precision, label=\"Precision-Recall Curve (AP = %.2f)\" % ap)\n",
    "    plt.xlabel(\"Recall\")\n",
    "    plt.ylabel(\"Precision\")\n",
    "    plt.legend()\n",
    "    plt.show()\n"
   ]
  },
  {
   "cell_type": "markdown",
   "metadata": {},
   "source": [
    "6. Log Loss (Cross-Entropy Loss)\n",
    "Definition: Measures the uncertainty of predictions, penalizing both overconfident wrong predictions and underconfident right predictions.\n",
    "Use Case: Useful for models that output probabilities rather than hard labels."
   ]
  },
  {
   "cell_type": "code",
   "execution_count": null,
   "metadata": {},
   "outputs": [],
   "source": [
    "from sklearn.metrics import log_loss\n",
    "\n",
    "def compute_log_loss(y_true, y_proba):\n",
    "    loss = log_loss(y_true, y_proba)\n",
    "    print(f\"Log Loss: {loss:.4f}\")\n"
   ]
  },
  {
   "cell_type": "markdown",
   "metadata": {},
   "source": [
    "7. Classification Report\n",
    "Definition: Summarizes precision, recall, F1-score, and support for each class.\n",
    "Use Case: A quick way to evaluate the model’s performance across classes.\n"
   ]
  },
  {
   "cell_type": "code",
   "execution_count": null,
   "metadata": {},
   "outputs": [],
   "source": [
    "from sklearn.metrics import classification_report\n",
    "\n",
    "def print_classification_report(y_true, y_pred):\n",
    "    report = classification_report(y_true, y_pred)\n",
    "    print(report)\n"
   ]
  }
 ],
 "metadata": {
  "kernelspec": {
   "display_name": "base",
   "language": "python",
   "name": "python3"
  },
  "language_info": {
   "codemirror_mode": {
    "name": "ipython",
    "version": 3
   },
   "file_extension": ".py",
   "mimetype": "text/x-python",
   "name": "python",
   "nbconvert_exporter": "python",
   "pygments_lexer": "ipython3",
   "version": "3.12.4"
  }
 },
 "nbformat": 4,
 "nbformat_minor": 2
}
