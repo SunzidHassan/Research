{
 "cells": [
  {
   "cell_type": "code",
   "execution_count": 3,
   "id": "d86304a8-3e92-47b9-9b10-a74110c0d42c",
   "metadata": {
    "vscode": {
     "languageId": "r"
    }
   },
   "outputs": [
    {
     "name": "stderr",
     "output_type": "stream",
     "text": [
      "\n",
      "Attaching package: ‘dplyr’\n",
      "\n",
      "\n",
      "The following objects are masked from ‘package:stats’:\n",
      "\n",
      "    filter, lag\n",
      "\n",
      "\n",
      "The following objects are masked from ‘package:base’:\n",
      "\n",
      "    intersect, setdiff, setequal, union\n",
      "\n",
      "\n",
      "\n",
      "Attaching package: ‘data.table’\n",
      "\n",
      "\n",
      "The following objects are masked from ‘package:dplyr’:\n",
      "\n",
      "    between, first, last\n",
      "\n",
      "\n"
     ]
    }
   ],
   "source": [
    "library(dplyr)\n",
    "library(data.table)\n",
    "library(tidyr)\n"
   ]
  },
  {
   "cell_type": "code",
   "execution_count": 4,
   "id": "c763548a-fa89-4e5f-959b-a7d05a50a844",
   "metadata": {
    "vscode": {
     "languageId": "r"
    }
   },
   "outputs": [
    {
     "data": {
      "text/html": [
       "<table class=\"dataframe\">\n",
       "<caption>A data.table: 6 × 24</caption>\n",
       "<thead>\n",
       "\t<tr><th scope=col>ensembl_gene_id</th><th scope=col>entrez_gene_id</th><th scope=col>gene</th><th scope=col>symbol</th><th scope=col>Drug A _Sub_1</th><th scope=col>Drug A _Sub_2</th><th scope=col>Drug A _Sub_3</th><th scope=col>Drug A _Sub_4</th><th scope=col>Drug A _Sub_5</th><th scope=col>Drug B _Sub_1</th><th scope=col>⋯</th><th scope=col>Drug C_Sub_1</th><th scope=col>Drug C_Sub_2</th><th scope=col>Drug C_Sub_3</th><th scope=col>Drug C_Sub_4</th><th scope=col>Drug C_Sub_5</th><th scope=col>Saline_sub_1</th><th scope=col>Saline_sub_2</th><th scope=col>Saline_sub_3</th><th scope=col>Saline_sub_4</th><th scope=col>Saline_sub_5</th></tr>\n",
       "\t<tr><th scope=col>&lt;chr&gt;</th><th scope=col>&lt;int&gt;</th><th scope=col>&lt;chr&gt;</th><th scope=col>&lt;chr&gt;</th><th scope=col>&lt;dbl&gt;</th><th scope=col>&lt;dbl&gt;</th><th scope=col>&lt;dbl&gt;</th><th scope=col>&lt;dbl&gt;</th><th scope=col>&lt;dbl&gt;</th><th scope=col>&lt;dbl&gt;</th><th scope=col>⋯</th><th scope=col>&lt;dbl&gt;</th><th scope=col>&lt;dbl&gt;</th><th scope=col>&lt;dbl&gt;</th><th scope=col>&lt;dbl&gt;</th><th scope=col>&lt;dbl&gt;</th><th scope=col>&lt;dbl&gt;</th><th scope=col>&lt;dbl&gt;</th><th scope=col>&lt;dbl&gt;</th><th scope=col>&lt;dbl&gt;</th><th scope=col>&lt;dbl&gt;</th></tr>\n",
       "</thead>\n",
       "<tbody>\n",
       "\t<tr><td>ENSMUSG00000000001</td><td> 14679</td><td>guanine nucleotide binding protein (G protein), alpha inhibiting 3</td><td>Gnai3</td><td>654</td><td>932</td><td>664</td><td>856</td><td>806</td><td>906</td><td>⋯</td><td>814</td><td>944</td><td>1311</td><td>1167</td><td>768</td><td>866</td><td>652</td><td>706</td><td>1257</td><td>809</td></tr>\n",
       "\t<tr><td>ENSMUSG00000000003</td><td> 54192</td><td>probasin                                                          </td><td>Pbsn </td><td>  0</td><td>  0</td><td>  0</td><td>  0</td><td>  0</td><td>  0</td><td>⋯</td><td>  0</td><td>  0</td><td>   0</td><td>   0</td><td>  0</td><td>  0</td><td>  0</td><td>  0</td><td>   0</td><td>  0</td></tr>\n",
       "\t<tr><td>ENSMUSG00000000028</td><td> 12544</td><td>cell division cycle 45                                            </td><td>Cdc45</td><td> 17</td><td> 13</td><td> 20</td><td> 21</td><td> 22</td><td> 28</td><td>⋯</td><td> 31</td><td> 31</td><td>  32</td><td>  38</td><td> 16</td><td> 34</td><td> 20</td><td> 16</td><td>  45</td><td> 20</td></tr>\n",
       "\t<tr><td>ENSMUSG00000000031</td><td> 14955</td><td>H19, imprinted maternally expressed transcript                    </td><td>H19  </td><td>  3</td><td>  6</td><td> 12</td><td>  4</td><td>  5</td><td>  9</td><td>⋯</td><td> 11</td><td> 12</td><td>   6</td><td>  10</td><td>  2</td><td>  4</td><td>  3</td><td>  5</td><td>   6</td><td>  6</td></tr>\n",
       "\t<tr><td>ENSMUSG00000000037</td><td>107815</td><td>Scm polycomb group protein like 2                                 </td><td>Scml2</td><td> 20</td><td> 22</td><td> 22</td><td> 37</td><td> 20</td><td> 40</td><td>⋯</td><td> 26</td><td> 36</td><td>  35</td><td>  40</td><td> 18</td><td> 34</td><td> 18</td><td> 26</td><td>  30</td><td> 24</td></tr>\n",
       "\t<tr><td>ENSMUSG00000000049</td><td> 11818</td><td>apolipoprotein H                                                  </td><td>Apoh </td><td>  3</td><td>  9</td><td>  8</td><td>  4</td><td>  9</td><td>  5</td><td>⋯</td><td>  9</td><td>  5</td><td>   7</td><td>   9</td><td> 14</td><td>  6</td><td> 11</td><td>  7</td><td>   9</td><td> 14</td></tr>\n",
       "</tbody>\n",
       "</table>\n"
      ],
      "text/latex": [
       "A data.table: 6 × 24\n",
       "\\begin{tabular}{lllllllllllllllllllll}\n",
       " ensembl\\_gene\\_id & entrez\\_gene\\_id & gene & symbol & Drug A \\_Sub\\_1 & Drug A \\_Sub\\_2 & Drug A \\_Sub\\_3 & Drug A \\_Sub\\_4 & Drug A \\_Sub\\_5 & Drug B \\_Sub\\_1 & ⋯ & Drug C\\_Sub\\_1 & Drug C\\_Sub\\_2 & Drug C\\_Sub\\_3 & Drug C\\_Sub\\_4 & Drug C\\_Sub\\_5 & Saline\\_sub\\_1 & Saline\\_sub\\_2 & Saline\\_sub\\_3 & Saline\\_sub\\_4 & Saline\\_sub\\_5\\\\\n",
       " <chr> & <int> & <chr> & <chr> & <dbl> & <dbl> & <dbl> & <dbl> & <dbl> & <dbl> & ⋯ & <dbl> & <dbl> & <dbl> & <dbl> & <dbl> & <dbl> & <dbl> & <dbl> & <dbl> & <dbl>\\\\\n",
       "\\hline\n",
       "\t ENSMUSG00000000001 &  14679 & guanine nucleotide binding protein (G protein), alpha inhibiting 3 & Gnai3 & 654 & 932 & 664 & 856 & 806 & 906 & ⋯ & 814 & 944 & 1311 & 1167 & 768 & 866 & 652 & 706 & 1257 & 809\\\\\n",
       "\t ENSMUSG00000000003 &  54192 & probasin                                                           & Pbsn  &   0 &   0 &   0 &   0 &   0 &   0 & ⋯ &   0 &   0 &    0 &    0 &   0 &   0 &   0 &   0 &    0 &   0\\\\\n",
       "\t ENSMUSG00000000028 &  12544 & cell division cycle 45                                             & Cdc45 &  17 &  13 &  20 &  21 &  22 &  28 & ⋯ &  31 &  31 &   32 &   38 &  16 &  34 &  20 &  16 &   45 &  20\\\\\n",
       "\t ENSMUSG00000000031 &  14955 & H19, imprinted maternally expressed transcript                     & H19   &   3 &   6 &  12 &   4 &   5 &   9 & ⋯ &  11 &  12 &    6 &   10 &   2 &   4 &   3 &   5 &    6 &   6\\\\\n",
       "\t ENSMUSG00000000037 & 107815 & Scm polycomb group protein like 2                                  & Scml2 &  20 &  22 &  22 &  37 &  20 &  40 & ⋯ &  26 &  36 &   35 &   40 &  18 &  34 &  18 &  26 &   30 &  24\\\\\n",
       "\t ENSMUSG00000000049 &  11818 & apolipoprotein H                                                   & Apoh  &   3 &   9 &   8 &   4 &   9 &   5 & ⋯ &   9 &   5 &    7 &    9 &  14 &   6 &  11 &   7 &    9 &  14\\\\\n",
       "\\end{tabular}\n"
      ],
      "text/markdown": [
       "\n",
       "A data.table: 6 × 24\n",
       "\n",
       "| ensembl_gene_id &lt;chr&gt; | entrez_gene_id &lt;int&gt; | gene &lt;chr&gt; | symbol &lt;chr&gt; | Drug A _Sub_1 &lt;dbl&gt; | Drug A _Sub_2 &lt;dbl&gt; | Drug A _Sub_3 &lt;dbl&gt; | Drug A _Sub_4 &lt;dbl&gt; | Drug A _Sub_5 &lt;dbl&gt; | Drug B _Sub_1 &lt;dbl&gt; | ⋯ ⋯ | Drug C_Sub_1 &lt;dbl&gt; | Drug C_Sub_2 &lt;dbl&gt; | Drug C_Sub_3 &lt;dbl&gt; | Drug C_Sub_4 &lt;dbl&gt; | Drug C_Sub_5 &lt;dbl&gt; | Saline_sub_1 &lt;dbl&gt; | Saline_sub_2 &lt;dbl&gt; | Saline_sub_3 &lt;dbl&gt; | Saline_sub_4 &lt;dbl&gt; | Saline_sub_5 &lt;dbl&gt; |\n",
       "|---|---|---|---|---|---|---|---|---|---|---|---|---|---|---|---|---|---|---|---|---|\n",
       "| ENSMUSG00000000001 |  14679 | guanine nucleotide binding protein (G protein), alpha inhibiting 3 | Gnai3 | 654 | 932 | 664 | 856 | 806 | 906 | ⋯ | 814 | 944 | 1311 | 1167 | 768 | 866 | 652 | 706 | 1257 | 809 |\n",
       "| ENSMUSG00000000003 |  54192 | probasin                                                           | Pbsn  |   0 |   0 |   0 |   0 |   0 |   0 | ⋯ |   0 |   0 |    0 |    0 |   0 |   0 |   0 |   0 |    0 |   0 |\n",
       "| ENSMUSG00000000028 |  12544 | cell division cycle 45                                             | Cdc45 |  17 |  13 |  20 |  21 |  22 |  28 | ⋯ |  31 |  31 |   32 |   38 |  16 |  34 |  20 |  16 |   45 |  20 |\n",
       "| ENSMUSG00000000031 |  14955 | H19, imprinted maternally expressed transcript                     | H19   |   3 |   6 |  12 |   4 |   5 |   9 | ⋯ |  11 |  12 |    6 |   10 |   2 |   4 |   3 |   5 |    6 |   6 |\n",
       "| ENSMUSG00000000037 | 107815 | Scm polycomb group protein like 2                                  | Scml2 |  20 |  22 |  22 |  37 |  20 |  40 | ⋯ |  26 |  36 |   35 |   40 |  18 |  34 |  18 |  26 |   30 |  24 |\n",
       "| ENSMUSG00000000049 |  11818 | apolipoprotein H                                                   | Apoh  |   3 |   9 |   8 |   4 |   9 |   5 | ⋯ |   9 |   5 |    7 |    9 |  14 |   6 |  11 |   7 |    9 |  14 |\n",
       "\n"
      ],
      "text/plain": [
       "  ensembl_gene_id    entrez_gene_id\n",
       "1 ENSMUSG00000000001  14679        \n",
       "2 ENSMUSG00000000003  54192        \n",
       "3 ENSMUSG00000000028  12544        \n",
       "4 ENSMUSG00000000031  14955        \n",
       "5 ENSMUSG00000000037 107815        \n",
       "6 ENSMUSG00000000049  11818        \n",
       "  gene                                                               symbol\n",
       "1 guanine nucleotide binding protein (G protein), alpha inhibiting 3 Gnai3 \n",
       "2 probasin                                                           Pbsn  \n",
       "3 cell division cycle 45                                             Cdc45 \n",
       "4 H19, imprinted maternally expressed transcript                     H19   \n",
       "5 Scm polycomb group protein like 2                                  Scml2 \n",
       "6 apolipoprotein H                                                   Apoh  \n",
       "  Drug A _Sub_1 Drug A _Sub_2 Drug A _Sub_3 Drug A _Sub_4 Drug A _Sub_5\n",
       "1 654           932           664           856           806          \n",
       "2   0             0             0             0             0          \n",
       "3  17            13            20            21            22          \n",
       "4   3             6            12             4             5          \n",
       "5  20            22            22            37            20          \n",
       "6   3             9             8             4             9          \n",
       "  Drug B _Sub_1 ⋯ Drug C_Sub_1 Drug C_Sub_2 Drug C_Sub_3 Drug C_Sub_4\n",
       "1 906           ⋯ 814          944          1311         1167        \n",
       "2   0           ⋯   0            0             0            0        \n",
       "3  28           ⋯  31           31            32           38        \n",
       "4   9           ⋯  11           12             6           10        \n",
       "5  40           ⋯  26           36            35           40        \n",
       "6   5           ⋯   9            5             7            9        \n",
       "  Drug C_Sub_5 Saline_sub_1 Saline_sub_2 Saline_sub_3 Saline_sub_4 Saline_sub_5\n",
       "1 768          866          652          706          1257         809         \n",
       "2   0            0            0            0             0           0         \n",
       "3  16           34           20           16            45          20         \n",
       "4   2            4            3            5             6           6         \n",
       "5  18           34           18           26            30          24         \n",
       "6  14            6           11            7             9          14         "
      ]
     },
     "metadata": {},
     "output_type": "display_data"
    }
   ],
   "source": [
    "raw_counts_pivot <- fread(\"Data/raw counts NGS_de iden.csv\") %>%\n",
    "  select(-c(\"V1\")) %>%\n",
    "  rename(ensembl_gene_id = \"ENSEMBL\", entrez_gene_id = \"ENTREZID\", gene=\"GENENAME\", symbol=\"SYMBOL\")\n",
    "head(raw_counts_pivot)\n"
   ]
  },
  {
   "cell_type": "code",
   "execution_count": null,
   "id": "0f3d3959-e054-4180-bc90-fb76b49cc868",
   "metadata": {
    "vscode": {
     "languageId": "r"
    }
   },
   "outputs": [],
   "source": [
    "raw_counts <- melt(raw_counts_pivot, id.vars = c(\"ensembl_gene_id\", \"entrez_gene_id\", \"gene\", \"symbol\"),\n",
    "                   variable.name = c(\"drug_sub\"),\n",
    "                   value.name = c(\"expression_val\"))\n",
    "\n",
    "raw_counts$drug_sub <- as.character(raw_counts$drug_sub)\n",
    "raw_counts$drug <- tolower(substr(raw_counts$drug_sub, 1, nchar(raw_counts$drug_sub)-5))\n",
    "raw_counts$subject <- as.factor(tolower(substr(raw_counts$drug_sub, nchar(raw_counts$drug_sub)-8, nchar(raw_counts$drug_sub))))\n",
    "\n",
    "raw_counts"
   ]
  }
 ],
 "metadata": {
  "kernelspec": {
   "display_name": "R",
   "language": "R",
   "name": "ir"
  },
  "language_info": {
   "codemirror_mode": "r",
   "file_extension": ".r",
   "mimetype": "text/x-r-source",
   "name": "R",
   "pygments_lexer": "r",
   "version": "4.3.3"
  }
 },
 "nbformat": 4,
 "nbformat_minor": 5
}
